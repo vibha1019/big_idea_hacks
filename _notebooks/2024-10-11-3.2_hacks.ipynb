{
 "cells": [
  {
   "cell_type": "raw",
   "metadata": {
    "vscode": {
     "languageId": "raw"
    }
   },
   "source": [
    "---\n",
    "layout: post\n",
    "title: 3.2 Hacks\n",
    "description: Python/Javascript Popcorn and HW hacks\n",
    "permalink: /github/pages/3_2_hacks\n",
    "type: ccc\n",
    "author: Vibha Mandayam\n",
    "---"
   ]
  },
  {
   "cell_type": "code",
   "execution_count": null,
   "metadata": {},
   "outputs": [],
   "source": [
    "# Create a set with the numbers 1, 2, 3, 4, 5\n",
    "my_set = {1, 2, 3, 4, 5}\n",
    "\n",
    "# Add the number 6 to the set\n",
    "my_set.add(6)\n",
    "\n",
    "# Remove the number 2 from the set\n",
    "my_set.remove(2)\n",
    "\n",
    "# Print the updated set\n",
    "print(my_set)\n"
   ]
  },
  {
   "cell_type": "code",
   "execution_count": 1,
   "metadata": {},
   "outputs": [
    {
     "name": "stdout",
     "output_type": "stream",
     "text": [
      "Union: {20, 40, 10, 60, 30}\n",
      "Intersection: {20}\n"
     ]
    }
   ],
   "source": [
    "# Define the sets\n",
    "set_x = {10, 20, 30}\n",
    "set_y = {20, 40, 60}\n",
    "\n",
    "# Find the union of the two sets\n",
    "union_set = set_x.union(set_y)\n",
    "# Alternatively, you can use: union_set = set_x | set_y\n",
    "\n",
    "# Find the intersection of the two sets\n",
    "intersection_set = set_x.intersection(set_y)\n",
    "# Alternatively, you can use: intersection_set = set_x & set_y\n",
    "\n",
    "# Print the results\n",
    "print(\"Union:\", union_set)\n",
    "print(\"Intersection:\", intersection_set)\n"
   ]
  },
  {
   "cell_type": "code",
   "execution_count": null,
   "metadata": {},
   "outputs": [],
   "source": [
    "# Define the list with duplicates\n",
    "my_list = [1, 2, 2, 3, 4, 4, 5]\n",
    "\n",
    "# Convert the list to a set to eliminate duplicates\n",
    "unique_set = set(my_list)\n",
    "\n",
    "# Convert the set back to a list (optional)\n",
    "unique_list = list(unique_set)\n",
    "\n",
    "# Print the results\n",
    "print(\"Unique elements:\", unique_list)\n"
   ]
  }
 ],
 "metadata": {
  "kernelspec": {
   "display_name": "Python 3",
   "language": "python",
   "name": "python3"
  },
  "language_info": {
   "codemirror_mode": {
    "name": "ipython",
    "version": 3
   },
   "file_extension": ".py",
   "mimetype": "text/x-python",
   "name": "python",
   "nbconvert_exporter": "python",
   "pygments_lexer": "ipython3",
   "version": "3.10.2"
  }
 },
 "nbformat": 4,
 "nbformat_minor": 2
}
