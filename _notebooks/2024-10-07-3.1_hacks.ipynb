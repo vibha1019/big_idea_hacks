{
 "cells": [
  {
   "cell_type": "raw",
   "metadata": {
    "vscode": {
     "languageId": "raw"
    }
   },
   "source": [
    "---\n",
    "layout: post\n",
    "title: 3.1 Hacks\n",
    "description: Python/Javascript Popcorn and HW hacks\n",
    "permalink: /github/pages/3_1_hacks\n",
    "type: ccc\n",
    "author: Vibha Mandayam\n",
    "---"
   ]
  },
  {
   "cell_type": "raw",
   "metadata": {
    "vscode": {
     "languageId": "raw"
    }
   },
   "source": [
    "3.1 Python Popcorn Hacks"
   ]
  },
  {
   "cell_type": "code",
   "execution_count": 2,
   "metadata": {},
   "outputs": [
    {
     "name": "stdout",
     "output_type": "stream",
     "text": [
      "taylor swift tennis\n"
     ]
    }
   ],
   "source": [
    "best_flavor = \"mint chocolate chip\"\n",
    "best_movie = \"bee movie\"\n",
    "best_female_singer = \"taylor swift \"\n",
    "best_male_singer = \"Peter McPoland\"\n",
    "favorite_sport = \"tennis\"\n",
    "\n",
    "print(best_female_singer + favorite_sport)"
   ]
  },
  {
   "cell_type": "code",
   "execution_count": 3,
   "metadata": {},
   "outputs": [
    {
     "name": "stdout",
     "output_type": "stream",
     "text": [
      "{'apple': 'red', 'orange': 'orange', 'banana': 'yellow', 'watermelon': 'green'}\n"
     ]
    }
   ],
   "source": [
    "fruits_dict = {'apple': 'red', 'orange': 'orange', 'banana': 'yellow', 'watermelon': 'green'}\n",
    "print(fruits_dict)\n"
   ]
  },
  {
   "cell_type": "markdown",
   "metadata": {},
   "source": [
    "3.1 Javascript Popcorn Hacks"
   ]
  },
  {
   "cell_type": "code",
   "execution_count": null,
   "metadata": {
    "vscode": {
     "languageId": "javascript"
    }
   },
   "outputs": [],
   "source": [
    "let popcornBags = 5;\n",
    "\n",
    "function popcornMessage() {\n",
    "    console.log(`You have ${popcornBags} bags of popcorn ready for the movie!`);\n",
    "}\n",
    "\n",
    "popcornMessage();\n"
   ]
  },
  {
   "cell_type": "code",
   "execution_count": null,
   "metadata": {
    "vscode": {
     "languageId": "javascript"
    }
   },
   "outputs": [],
   "source": [
    "// Create an array with different data types\n",
    "let mixedArray = [\n",
    "    \"Hello, world!\",       \n",
    "    42,                    \n",
    "    true,                  \n",
    "    { name: \"Alice\", age: 30 },  \n",
    "    [1, 2, 3],            \n",
    "    null                   \n",
    "];\n",
    "\n",
    "// Log the entire array to the console\n",
    "console.log(\"Mixed Array:\", mixedArray);"
   ]
  },
  {
   "cell_type": "markdown",
   "metadata": {},
   "source": [
    "3.1 Javascript Homework Hacks"
   ]
  },
  {
   "cell_type": "code",
   "execution_count": null,
   "metadata": {
    "vscode": {
     "languageId": "javascript"
    }
   },
   "outputs": [],
   "source": [
    "const petType = \"dog\";          \n",
    "let petName = \"Buddy\";          \n",
    "let numberOfPets = 3;           \n",
    "\n",
    "console.log(`Pet Type: ${petType}`);\n",
    "console.log(`Pet Name: ${petName}`);\n",
    "console.log(`Number of Pets: ${numberOfPets}`);\n",
    "\n",
    "function createPetMessage() {\n",
    "    return `I have ${numberOfPets} ${petType}(s) named ${petName}.`;\n",
    "}\n",
    "\n",
    "console.log(createPetMessage());\n"
   ]
  },
  {
   "cell_type": "code",
   "execution_count": null,
   "metadata": {
    "vscode": {
     "languageId": "javascript"
    }
   },
   "outputs": [],
   "source": [
    "// Define a function to calculate the average grade\n",
    "function calculateAverageGrade(scores) {\n",
    "    // Add all the scores together\n",
    "    let total = 0;\n",
    "    for (let score of scores) {\n",
    "        total += score; // Add each score to the total\n",
    "    }\n",
    "    // Calculate the average by dividing total by the number of scores\n",
    "    return total / scores.length; // Return the average grade\n",
    "}\n",
    "\n",
    "// Input scores as variables\n",
    "let student1Scores = [85, 90, 78, 92]; // Scores for student 1\n",
    "let student2Scores = [88, 76, 95, 89]; // Scores for student 2\n",
    "\n",
    "// Calculate average grades for each student\n",
    "let student1Average = calculateAverageGrade(student1Scores); // Calculate average for student 1\n",
    "let student2Average = calculateAverageGrade(student2Scores); // Calculate average for student 2\n",
    "\n",
    "// Create an array of student info objects\n",
    "let studentsInfo = [\n",
    "    { name: \"Alice\", age: 20, averageGrade: student1Average }, // Student 1 info\n",
    "    { name: \"Bob\", age: 22, averageGrade: student2Average }    // Student 2 info\n",
    "];\n",
    "\n",
    "// Log the average grades and student info to the console\n",
    "console.log(\"Average Grades:\");\n",
    "console.log(`${studentsInfo[0].name} (Age: ${studentsInfo[0].age}): Average Grade: ${studentsInfo[0].averageGrade.toFixed(2)}`);\n",
    "console.log(`${studentsInfo[1].name} (Age: ${studentsInfo[1].age}): Average Grade: ${studentsInfo[1].averageGrade.toFixed(2)}`);\n"
   ]
  }
 ],
 "metadata": {
  "kernelspec": {
   "display_name": "Python 3",
   "language": "python",
   "name": "python3"
  },
  "language_info": {
   "codemirror_mode": {
    "name": "ipython",
    "version": 3
   },
   "file_extension": ".py",
   "mimetype": "text/x-python",
   "name": "python",
   "nbconvert_exporter": "python",
   "pygments_lexer": "ipython3",
   "version": "3.10.2"
  }
 },
 "nbformat": 4,
 "nbformat_minor": 2
}
