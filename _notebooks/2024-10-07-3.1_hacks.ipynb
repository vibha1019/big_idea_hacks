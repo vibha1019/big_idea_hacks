{
 "cells": [
  {
   "cell_type": "raw",
   "metadata": {
    "vscode": {
     "languageId": "raw"
    }
   },
   "source": [
    "---\n",
    "layout: post\n",
    "title: 3.1 Hacks\n",
    "description: Python/Javascript Popcorn and HW hacks\n",
    "permalink: /github/pages/3_1_hacks\n",
    "type: ccc\n",
    "author: Vibha Mandayam\n",
    "---"
   ]
  },
  {
   "cell_type": "raw",
   "metadata": {
    "vscode": {
     "languageId": "raw"
    }
   },
   "source": [
    "3.1.1 Popcorn Hacks"
   ]
  },
  {
   "cell_type": "code",
   "execution_count": 2,
   "metadata": {},
   "outputs": [
    {
     "name": "stdout",
     "output_type": "stream",
     "text": [
      "taylor swift tennis\n"
     ]
    }
   ],
   "source": [
    "best_flavor = \"mint chocolate chip\"\n",
    "best_movie = \"bee movie\"\n",
    "best_female_singer = \"taylor swift \"\n",
    "best_male_singer = \"Peter McPoland\"\n",
    "favorite_sport = \"tennis\"\n",
    "\n",
    "print(best_female_singer + favorite_sport)"
   ]
  },
  {
   "cell_type": "markdown",
   "metadata": {},
   "source": [
    "3.1.2 Popcorn Hacks"
   ]
  },
  {
   "cell_type": "code",
   "execution_count": 3,
   "metadata": {},
   "outputs": [
    {
     "name": "stdout",
     "output_type": "stream",
     "text": [
      "{'apple': 'red', 'orange': 'orange', 'banana': 'yellow', 'watermelon': 'green'}\n"
     ]
    }
   ],
   "source": [
    "fruits_dict = {'apple': 'red', 'orange': 'orange', 'banana': 'yellow', 'watermelon': 'green'}\n",
    "print(fruits_dict)\n"
   ]
  },
  {
   "cell_type": "markdown",
   "metadata": {},
   "source": [
    "3.1.4 Popcorn Hacks"
   ]
  },
  {
   "cell_type": "code",
   "execution_count": null,
   "metadata": {
    "vscode": {
     "languageId": "javascript"
    }
   },
   "outputs": [],
   "source": [
    "// Create an array with different data types\n",
    "let mixedArray = [\n",
    "    \"Hello, world!\",       \n",
    "    42,                    \n",
    "    true,                  \n",
    "    { name: \"Alice\", age: 30 },  \n",
    "    [1, 2, 3],            \n",
    "    null                   \n",
    "];\n",
    "\n",
    "// Log the entire array to the console\n",
    "console.log(\"Mixed Array:\", mixedArray);"
   ]
  },
  {
   "cell_type": "markdown",
   "metadata": {},
   "source": [
    "3.1.3 Homework Hacks"
   ]
  },
  {
   "cell_type": "code",
   "execution_count": null,
   "metadata": {
    "vscode": {
     "languageId": "javascript"
    }
   },
   "outputs": [],
   "source": [
    "const petType = \"dog\";          \n",
    "let petName = \"Buddy\";          \n",
    "let numberOfPets = 3;           \n",
    "\n",
    "console.log(`Pet Type: ${petType}`);\n",
    "console.log(`Pet Name: ${petName}`);\n",
    "console.log(`Number of Pets: ${numberOfPets}`);\n",
    "\n",
    "function createPetMessage() {\n",
    "    return `I have ${numberOfPets} ${petType}(s) named ${petName}.`;\n",
    "}\n",
    "\n",
    "console.log(createPetMessage());\n"
   ]
  },
  {
   "cell_type": "markdown",
   "metadata": {},
   "source": [
    "3.1.4 Homework Hacks"
   ]
  },
  {
   "cell_type": "code",
   "execution_count": null,
   "metadata": {
    "vscode": {
     "languageId": "javascript"
    }
   },
   "outputs": [],
   "source": [
    "function calculateAverageGrade(scores) {\n",
    "    let total = 0;\n",
    "    for (let score of scores) {\n",
    "        total += score; \n",
    "    }\n",
    "    return total / scores.length; \n",
    "}\n",
    "\n",
    "let student1Scores = [85, 90, 78, 92]; \n",
    "let student2Scores = [88, 76, 95, 89];\n",
    "\n",
    "let student1Average = calculateAverageGrade(student1Scores); // Calculate average for student 1\n",
    "let student2Average = calculateAverageGrade(student2Scores); // Calculate average for student 2\n",
    "\n",
    "let studentsInfo = [\n",
    "    { name: \"Alice\", age: 20, averageGrade: student1Average }, // Student 1 info\n",
    "    { name: \"Bob\", age: 22, averageGrade: student2Average }    // Student 2 info\n",
    "];\n",
    "\n",
    "console.log(\"Average Grades:\");\n",
    "console.log(`${studentsInfo[0].name} (Age: ${studentsInfo[0].age}): Average Grade: ${studentsInfo[0].averageGrade.toFixed(2)}`);\n",
    "console.log(`${studentsInfo[1].name} (Age: ${studentsInfo[1].age}): Average Grade: ${studentsInfo[1].averageGrade.toFixed(2)}`);\n"
   ]
  },
  {
   "cell_type": "markdown",
   "metadata": {},
   "source": [
    "3.4.2 Popcorn Hacks"
   ]
  },
  {
   "cell_type": "code",
   "execution_count": 4,
   "metadata": {},
   "outputs": [
    {
     "name": "stdout",
     "output_type": "stream",
     "text": [
      "0 49 red lights stop signs i still see ur face in the whhite cars front yards cant drive past the places we used to go bc i still love youyoure probably with that blonde girl that always made me doubt she is so much older than me she is everything i am insecure about\n"
     ]
    }
   ],
   "source": [
    "song_title = \"drivers license\"  \n",
    "lyrics = \" I got my drivers license last week Just like we always talked about Cause you were so excited for me To finally drive up to your house But today I drove through the suburbs Crying cause you werent around\"\n",
    "first_verse = \"I got my drivers license last week Just like we always talked about Cause you were so excited for me To finally drive up to your house\"\n",
    "second_verse = \"youre probably with that blonde girl that always made me doubt she is so much older than me she is everything i am insecure about\"\n",
    "last_verse = \"red lights stop signs i still see ur face in the whhite cars front yards cant drive past the places we used to go bc i still love you\"\n",
    "lyrics.split()\n",
    "title_count = 0 \n",
    "for lyric in lyrics:\n",
    "\tif lyric == \"drivers\":\n",
    "\t\ttitle_count += 1\n",
    "\n",
    "index_50 = 49\n",
    "first_verse = last_verse\n",
    "my_song = first_verse + second_verse\n",
    "\n",
    "print(title_count, index_50, my_song)\n",
    "\n",
    "\n",
    "\n",
    "\n",
    "\n",
    "\n"
   ]
  },
  {
   "cell_type": "markdown",
   "metadata": {},
   "source": [
    "3.4.3 Popcorn Hacks"
   ]
  },
  {
   "cell_type": "code",
   "execution_count": null,
   "metadata": {
    "vscode": {
     "languageId": "javascript"
    }
   },
   "outputs": [],
   "source": [
    "const flower = \"Rose\";\n",
    "const animal = \"Tiger\";\n",
    "const newCreature = `${flower}${animal}`; \n",
    "\n",
    "console.log(`Meet the new creature: ${newCreature}!`);\n",
    "\n",
    "const creatureName = newCreature;\n",
    "const location = \"the enchanted forest\";\n",
    "const characterName = \"Lila\";\n",
    "const creatureDescription = \"with beautiful petals and fierce stripes.\";\n",
    "\n",
    "const story = `\n",
    "In ${location}, there lived a creature named ${creatureName}, \n",
    "a unique being ${creatureDescription} \n",
    "\n",
    "One sunny day, ${characterName}, a curious girl, wandered into the forest. \n",
    "She exclaimed, 'Wow! I've never seen anything like you! What are you?'\n",
    "\n",
    "The ${creatureName} replied, 'I am a RoseTiger, the guardian of this forest. \n",
    "I protect the flowers and the animals that live here.'\n",
    "\n",
    "Intrigued, ${characterName} asked, 'Can you show me your home?'\n",
    "'Of course!' said the ${creatureName}. 'Follow me, and I'll show you the most beautiful flowers you've ever seen!'\n",
    "\n",
    "Together, they ventured deeper into the forest, discovering a world full of color and life. \n",
    "From that day on, ${characterName} and the ${creatureName} became the best of friends, \n",
    "exploring the enchanted forest together.\n",
    "`;\n",
    "\n",
    "console.log(story);\n"
   ]
  },
  {
   "cell_type": "markdown",
   "metadata": {},
   "source": [
    "3.4.4 Homework Hacks"
   ]
  },
  {
   "cell_type": "code",
   "execution_count": null,
   "metadata": {
    "vscode": {
     "languageId": "javascript"
    }
   },
   "outputs": [],
   "source": [
    "function analyzeText(text) {\n",
    "    const wordCount = text.split(/\\s+/).length;\n",
    "    const charCount = text.length; \n",
    "    const sentenceCount = text.split(/[.!?]/).filter(Boolean).length;\n",
    "    const averageWordLength = charCount / wordCount; \n",
    "    return {\n",
    "        wordCount,\n",
    "        charCount,\n",
    "        sentenceCount,\n",
    "        averageWordLength: averageWordLength.toFixed(2) \n",
    "    };\n",
    "}\n",
    "\n",
    "function replaceWords(originalText) {\n",
    "    let modifiedText = originalText;\n",
    "\n",
    "    while (true) {\n",
    "        const wordToReplace = prompt(\"Enter the word you want to replace (or type 'exit' to finish):\");\n",
    "        \n",
    "        if (wordToReplace === 'exit') {\n",
    "            break;\n",
    "        }\n",
    "\n",
    "        const replacementWord = prompt(`Enter the replacement for '${wordToReplace}':`);\n",
    "        \n",
    "        modifiedText = modifiedText.replace(new RegExp(`\\\\b${wordToReplace}\\\\b`, 'g'), replacementWord);\n",
    "        console.log(`Modified text: ${modifiedText}`);\n",
    "    }\n",
    "\n",
    "    return modifiedText;\n",
    "}\n",
    "\n",
    "const userInput = prompt(\"Enter a sentence or paragraph for analysis:\");\n",
    "const analysisResult = analyzeText(userInput);\n",
    "\n",
    "console.log(\"Text Analysis:\");\n",
    "console.log(`Word Count: ${analysisResult.wordCount}`);\n",
    "console.log(`Character Count: ${analysisResult.charCount}`);\n",
    "console.log(`Sentence Count: ${analysisResult.sentenceCount}`);\n",
    "console.log(`Average Word Length: ${analysisResult.averageWordLength} characters`);\n",
    "\n",
    "const modifiedText = replaceWords(userInput);\n",
    "console.log(\"Final modified text:\", modifiedText);\n"
   ]
  }
 ],
 "metadata": {
  "kernelspec": {
   "display_name": "Python 3",
   "language": "python",
   "name": "python3"
  },
  "language_info": {
   "codemirror_mode": {
    "name": "ipython",
    "version": 3
   },
   "file_extension": ".py",
   "mimetype": "text/x-python",
   "name": "python",
   "nbconvert_exporter": "python",
   "pygments_lexer": "ipython3",
   "version": "3.10.2"
  }
 },
 "nbformat": 4,
 "nbformat_minor": 2
}
