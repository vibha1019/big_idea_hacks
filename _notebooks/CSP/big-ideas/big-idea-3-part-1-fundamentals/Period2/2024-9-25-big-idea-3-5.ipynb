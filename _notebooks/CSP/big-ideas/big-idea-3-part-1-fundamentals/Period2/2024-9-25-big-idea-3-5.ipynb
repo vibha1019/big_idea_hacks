{
 "cells": [
  {
   "cell_type": "raw",
   "metadata": {
    "vscode": {
     "languageId": "raw"
    }
   },
   "source": [
    "---\n",
    "toc: false\n",
    "comments: true\n",
    "layout: post\n",
    "title: 3.5-P2 Boolean Expressions\n",
    "description: Student led teaching on Boolean Expressions. Learn how boolean expressions involve using loops and conditionals to make decisions in code.\n",
    "permalink: /csp/big-idea/p2/3-5\n",
    "categories: [CSP Big Ideas]\n",
    "author: Manas, Shriya, Lalita, Ethan\n",
    "menu: nav/csp_units/csp_unit3_p2_fundamentals.html\n",
    "---"
   ]
  },
  {
   "cell_type": "markdown",
   "metadata": {},
   "source": [
    "## A Content Outline"
   ]
  },
  {
   "cell_type": "markdown",
   "metadata": {},
   "source": [
    "_3.5.1_ Boolean Values in Python\n",
    "- Boolean Pythons \n",
    "- Rational Operators Python\n",
    "- Logical Operators Python\n",
    "\n",
    "_3.5.2_ Boolean Values in Java\n",
    "- Boolean Java\n",
    "- Rational Operators Java\n",
    "- Logical Operators\n",
    "\n",
    "_3.5.3_ Homework Hacks\n",
    "- Create Logic Gate Simulator in Python and Java\n",
    "\n",
    "_3.5.4_ Popcorn Hacks\n",
    "- Contrapositive Law in Python and Java"
   ]
  }
 ],
 "metadata": {
  "language_info": {
   "name": "python"
  }
 },
 "nbformat": 4,
 "nbformat_minor": 2
}
