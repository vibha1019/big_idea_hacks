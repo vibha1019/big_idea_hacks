{
 "cells": [
  {
   "cell_type": "raw",
   "metadata": {
    "vscode": {
     "languageId": "raw"
    }
   },
   "source": [
    "---\n",
    "toc: false\n",
    "comments: true\n",
    "layout: post\n",
    "title: 3.7-P2 Nested Conditionals \n",
    "description: Student led teaching on Nested Conditionals using Javascript and Python\n",
    "permalink: /csp/big-idea/p2/3-7\n",
    "categories: [CSP Big Ideas]\n",
    "author:  Kush, Nolan, Vincent, and Tarun\n",
    "menu: nav/csp_units/csp_unit3_p2_fundamentals.html\n",
    "---"
   ]
  },
  {
   "cell_type": "markdown",
   "metadata": {},
   "source": [
    "## Content Outline\n",
    "\n",
    "<style>\n",
    "  ul li {\n",
    "    margin-bottom: 10px;\n",
    "  }\n",
    "</style>\n",
    "\n",
    "3.7.1\n",
    "<ul>\n",
    "<li>If statements\n",
    "<li>Else Statements\n",
    "<li>Nested Conditionals\n",
    "<li>Examples using Javascript and Python\n",
    "</ul>\n",
    "\n",
    "<br>\n",
    "3.7.2\n",
    "<ul>\n",
    "<li>Homework Hack Assignment\n",
    "<li>Homework Hack Javscript and Python Examples\n",
    "</ul>"
   ]
  }
 ],
 "metadata": {
  "language_info": {
   "name": "python"
  }
 },
 "nbformat": 4,
 "nbformat_minor": 2
}
