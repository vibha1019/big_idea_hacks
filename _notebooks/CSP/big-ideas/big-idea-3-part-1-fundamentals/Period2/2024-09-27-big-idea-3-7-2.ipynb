{
 "cells": [
  {
   "cell_type": "raw",
   "metadata": {},
   "source": [
    "---\n",
    "toc: false\n",
    "comments: true\n",
    "layout: post\n",
    "title: 3.7.2 Nested Conditionals Homework Hack\n",
    "description: Student led teaching on Conditionals using Javascript and Python\n",
    "permalink: /csp/big-idea/p2/3-7-2\n",
    "categories: [CSP Big Ideas]\n",
    "author:  Kush, Nolan, Vincent, and Tarun\n",
    "menu: nav/csp_units/csp_unit3_p2_fundamentals.html\n",
    "---"
   ]
  },
  {
   "cell_type": "markdown",
   "metadata": {},
   "source": [
    "## Homework Hack"
   ]
  },
  {
   "cell_type": "code",
   "execution_count": null,
   "metadata": {},
   "outputs": [],
   "source": [
    "side1 = float(input(\"Side 1: \"))\n",
    "side2 = float(input(\"Side 2: \"))\n",
    "side3 = float(input(\"Side 3: \"))\n",
    "valid_triangle = (side1 + side2 > side3) and (side1 + side3 > side2) and (side2 + side3 > side1)\n",
    "if valid_triangle:\n",
    "    if side1 == side2 and side2 == side3:\n",
    "        triangle_type = \"Equilateral\"\n",
    "    elif side1 == side2 or side1 == side3 or side2 == side3:\n",
    "        triangle_type = \"Isosceles\"\n",
    "    else:\n",
    "        triangle_type = \"Scalene\"\n",
    "    print(f\"Triangle Type: {triangle_type}\")\n",
    "else:\n",
    "    print(\"The sides provided do not form a triangle.\")"
   ]
  },
  {
   "cell_type": "markdown",
   "metadata": {},
   "source": [
    "\n",
    "- The code collects three sides of a triangle from the user using float(input()) to handle decimal input values.\n",
    "\n",
    "- It checks if the three sides can form a valid triangle using the triangle inequality theorem, which ensures that the sum of any two sides must be greater than the \n",
    "third.\n",
    "- If the sides form a valid triangle, it classifies the triangle as Equilateral (all sides equal), Isosceles (two sides equal), or Scalene (all sides different).\n",
    "- The classification result is then printed using an f-string for clarity.\n",
    "- If the sides don't meet the triangle inequality condition, the code prints a message stating the sides do not form a valid triangle."
   ]
  }
 ],
 "metadata": {
  "language_info": {
   "name": "python"
  }
 },
 "nbformat": 4,
 "nbformat_minor": 2
}
