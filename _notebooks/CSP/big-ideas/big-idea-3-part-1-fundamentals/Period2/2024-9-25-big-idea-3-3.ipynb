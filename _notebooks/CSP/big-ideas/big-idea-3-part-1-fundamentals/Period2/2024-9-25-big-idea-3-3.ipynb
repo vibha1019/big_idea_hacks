{
 "cells": [
  {
   "cell_type": "raw",
   "metadata": {
    "vscode": {
     "languageId": "raw"
    }
   },
   "source": [
    "---\n",
    "toc: false\n",
    "comments: true\n",
    "layout: post\n",
    "title: 3.3-P2 Mathematical Expressions\n",
    "description: Student led teaching on  Mathematical Expressions. Learn how mathematical expressions involve using arithmetic operators (like addition, subtraction, multiplication, and division) to perform calculations\n",
    "permalink: /csp/big-idea/p2/3-3\n",
    "categories: [CSP Big Ideas]\n",
    "author: Manas, Shriya, Lalita, Ethan\n",
    "menu: nav/csp_units/csp_unit3_p2_fundamentals.html\n",
    "---"
   ]
  },
  {
   "cell_type": "markdown",
   "metadata": {},
   "source": [
    "## A Content Outline"
   ]
  },
  {
   "cell_type": "markdown",
   "metadata": {},
   "source": [
    "_3.3.1_ Mathematical Expressions\n",
    "- Mathematical Expressions Overview \n",
    "- Factorial Code Python \n",
    "-  Test Simulation Python \n",
    "\n",
    "_3.3.2_ Mathematical Operations\n",
    "- Mathematical Operations\n",
    "- Mathematical Operations Python Example\n",
    "\n",
    "_3.3.3_ Popcorn Hacks\n",
    "- Fibonacci Sequence Practice \n",
    "\n",
    "_3.3.4_ Homework Hack\n",
    "- Adding algorithms for the Fibonacci Sequence in python and java"
   ]
  }
 ],
 "metadata": {
  "language_info": {
   "name": "python"
  }
 },
 "nbformat": 4,
 "nbformat_minor": 2
}
