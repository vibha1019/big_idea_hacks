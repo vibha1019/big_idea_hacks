{
 "cells": [
  {
   "cell_type": "raw",
   "metadata": {
    "vscode": {
     "languageId": "raw"
    }
   },
   "source": [
    "---\n",
    "toc: false\n",
    "comments: true\n",
    "layout: post\n",
    "title: 3.8-P2 Iteration\n",
    "description: Student led teaching on Iteration. Learn how to do loops with Java and Python.\n",
    "permalink: /csp/big-idea/p2/3-8\n",
    "categories: [CSP Big Ideas]\n",
    "author:  Arshia, Mirabelle, Alejandro, Prajna\n",
    "menu: nav/csp_units/csp_unit3_p2_fundamentals.html\n",
    "---"
   ]
  },
  {
   "cell_type": "markdown",
   "metadata": {},
   "source": [
    "<span style=\"color: pink; font-size: 50px; font-family: 'Times New Roman';\"> Iterations! </span>"
   ]
  },
  {
   "cell_type": "markdown",
   "metadata": {},
   "source": [
    "<span style=\"color: pink; font-size: 30px; font-family: 'Roboto';\"> Introduction</span> <br/>\n",
    "The purpose of Loops or Iterations in Python is to code repetitive tasks, which is fundamental in programming. We'll go over:\n",
    "- For Loops\n",
    "- While Loops/Do-While Loops\n",
    "- Index Loops\n",
    "- Continue and Break"
   ]
  },
  {
   "cell_type": "markdown",
   "metadata": {},
   "source": [
    "<span style=\"color: pink; font-size: 30px; font-family: 'Roboto';\"> For Loops </span>\n",
    "- Used when you know how many times you need to run an algorithm \n",
    "- Runs through a specific set of instructions, and then stops"
   ]
  },
  {
   "cell_type": "markdown",
   "metadata": {},
   "source": [
    "<span style=\"color: pink; font-size: 30px; font-family: 'Roboto';\"> While Loops/ Do-While Loops </span>\n",
    "- Similar to For loop, but it runs a set amount of time and has a **condition** at the end.\n",
    "    - For ex: Do something 3 times, but IF it failes on 3rd, re-do instructions again.\n",
    "- Do-whiles are similar to whiles, but instead of a conditions, it stops defpending on a true or false statement at the end. \n"
   ]
  },
  {
   "cell_type": "markdown",
   "metadata": {},
   "source": [
    "<span style=\"color: pink; font-size: 30px; font-family: 'Roboto';\"> Index Loops </span>\n",
    "\n",
    "- This is used to control the number of iterations in a single loop"
   ]
  },
  {
   "cell_type": "markdown",
   "metadata": {},
   "source": [
    "<span style=\"color: pink; font-size: 30px; font-family: 'Roboto';\"> Continue and Break </span>\n",
    "- This command helps to terminate certain loops, or to move on to the next loop. "
   ]
  },
  {
   "cell_type": "markdown",
   "metadata": {},
   "source": [
    "<span style=\"color: pink; font-size: 30px; font-family: 'Roboto';\"> Extra Help </span>\n",
    "<style>\n",
    ".button {\n",
    "  background-color: #ff6eb2; /* Green */\n",
    "  border: none;\n",
    "  color: purple;\n",
    "  padding: 20px;\n",
    "  text-align: center;\n",
    "  text-decoration: none;\n",
    "  display: inline-block;\n",
    "  font-size: 16px;\n",
    "  margin: 4px 2px;\n",
    "  cursor: pointer;\n",
    "}\n",
    "\n",
    ".button1 {border-radius: 12px;}\n",
    "</style>\n",
    "\n",
    "\n",
    "<div>\n",
    "    <p> Click the following button to get extra help on loops in coding </p>\n",
    "</div>\n",
    "<a href=\"https://www.youtube.com/watch?v=wxds6MAtUQ0\">\n",
    "<button class=\"button button1\">Loops Video</button>\n",
    "</a>"
   ]
  },
  {
   "cell_type": "raw",
   "metadata": {},
   "source": [
    "## Other Fun Loops \n",
    "- Even though we will mainly cover the loops above, here are some other loops that you can also add to your page "
   ]
  },
  {
   "cell_type": "markdown",
   "metadata": {},
   "source": [
    "## Endless/Infinite Loops \n",
    "- Endless and infinite loops are created when a loop continues infinitely because the terminating condition is never met.\n",
    "- Here are examples in python and javascript. "
   ]
  },
  {
   "cell_type": "code",
   "execution_count": null,
   "metadata": {},
   "outputs": [],
   "source": [
    "while True:\n",
    "    print(\"This will run forever!\")"
   ]
  },
  {
   "cell_type": "code",
   "execution_count": 4,
   "metadata": {
    "vscode": {
     "languageId": "javascript"
    }
   },
   "outputs": [
    {
     "data": {
      "application/javascript": "let count = 0;\nwhile (true) {\n    console.log(\"Running...\");\n    count++;\n    if (count > 5) {  // Change this condition as needed\n        break;\n    }\n}\n",
      "text/plain": [
       "<IPython.core.display.Javascript object>"
      ]
     },
     "metadata": {},
     "output_type": "display_data"
    }
   ],
   "source": [
    "%%javascript\n",
    "let count = 0;\n",
    "while (true) {\n",
    "    console.log(\"Running...\");\n",
    "    count++;\n",
    "    if (count > 5) {  // Change this condition as needed\n",
    "        break;\n",
    "    }\n",
    "}"
   ]
  },
  {
   "cell_type": "raw",
   "metadata": {},
   "source": [
    "## Try/Except with Loops\n",
    "- Try/Except Loops are helpful in code through helping you handle errors and exceptions in try/except blocks and try/catch blocks. \n",
    "- Here are some examples in python and javascript"
   ]
  },
  {
   "cell_type": "code",
   "execution_count": 7,
   "metadata": {},
   "outputs": [
    {
     "name": "stdout",
     "output_type": "stream",
     "text": [
      "You can't divide by zero!\n",
      "Execution finished.\n"
     ]
    }
   ],
   "source": [
    "try:\n",
    "    # Code that may raise an exception\n",
    "    result = 10 / 0  # This will raise a ZeroDivisionError\n",
    "except ZeroDivisionError:\n",
    "    print(\"You can't divide by zero!\")\n",
    "except Exception as e:\n",
    "    print(f\"An error occurred: {e}\")\n",
    "else:\n",
    "    # This block runs if no exception is raised\n",
    "    print(f\"Result: {result}\")\n",
    "finally:\n",
    "    # This block runs no matter what\n",
    "    print(\"Execution finished.\")"
   ]
  },
  {
   "cell_type": "code",
   "execution_count": 9,
   "metadata": {
    "vscode": {
     "languageId": "javascript"
    }
   },
   "outputs": [
    {
     "data": {
      "application/javascript": "try {\n    // Code that may throw an error\n    let result = 10 / 0; // This will not throw an error, but for demo purposes\n    if (!isFinite(result)) throw new Error(\"Division by zero\"); // Manually throw error\n} catch (error) {\n    console.log(\"An error occurred: \" + error.message);\n} finally {\n    // This block runs no matter what\n    console.log(\"Execution finished.\");\n}\n",
      "text/plain": [
       "<IPython.core.display.Javascript object>"
      ]
     },
     "metadata": {},
     "output_type": "display_data"
    }
   ],
   "source": [
    "%%javascript\n",
    "try {\n",
    "    // Code that may throw an error\n",
    "    let result = 10 / 0; // This will not throw an error, but for demo purposes\n",
    "    if (!isFinite(result)) throw new Error(\"Division by zero\"); // Manually throw error\n",
    "} catch (error) {\n",
    "    console.log(\"An error occurred: \" + error.message);\n",
    "} finally {\n",
    "    // This block runs no matter what\n",
    "    console.log(\"Execution finished.\");\n",
    "}"
   ]
  },
  {
   "cell_type": "raw",
   "metadata": {},
   "source": [
    "## Nested For Loops \n",
    "- You can put loops within loops using code. Nested loops can be helpful to iterate over multiple dimensions.\n",
    "- Here are examples in python and javascript. "
   ]
  },
  {
   "cell_type": "code",
   "execution_count": 11,
   "metadata": {},
   "outputs": [
    {
     "name": "stdout",
     "output_type": "stream",
     "text": [
      "1 * 1 = 1\n",
      "1 * 2 = 2\n",
      "1 * 3 = 3\n",
      "2 * 1 = 2\n",
      "2 * 2 = 4\n",
      "2 * 3 = 6\n",
      "3 * 1 = 3\n",
      "3 * 2 = 6\n",
      "3 * 3 = 9\n"
     ]
    }
   ],
   "source": [
    "# Example: Nested loops to print a multiplication table\n",
    "for i in range(1, 4):  # Outer loop\n",
    "    for j in range(1, 4):  # Inner loop\n",
    "        product = i * j\n",
    "        print(f\"{i} * {j} = {product}\")"
   ]
  },
  {
   "cell_type": "code",
   "execution_count": 10,
   "metadata": {
    "vscode": {
     "languageId": "javascript"
    }
   },
   "outputs": [
    {
     "data": {
      "application/javascript": "// Example: Nested loops to print a multiplication table\nfor (let i = 1; i < 4; i++) {  // Outer loop\n    for (let j = 1; j < 4; j++) {  // Inner loop\n        let product = i * j;\n        console.log(`${i} * ${j} = ${product}`);\n    }\n}\n",
      "text/plain": [
       "<IPython.core.display.Javascript object>"
      ]
     },
     "metadata": {},
     "output_type": "display_data"
    }
   ],
   "source": [
    "%%javascript\n",
    "// Example: Nested loops to print a multiplication table\n",
    "for (let i = 1; i < 4; i++) {  // Outer loop\n",
    "    for (let j = 1; j < 4; j++) {  // Inner loop\n",
    "        let product = i * j;\n",
    "        console.log(`${i} * ${j} = ${product}`);\n",
    "    }\n",
    "}\n"
   ]
  },
  {
   "cell_type": "raw",
   "metadata": {},
   "source": [
    "## Creative Ways to use Loops \n",
    "- Below is a series of code you can include in your code to create a text banner. \n",
    "- It uses multiple types of loops to create an aesthetic banner "
   ]
  },
  {
   "cell_type": "code",
   "execution_count": 1,
   "metadata": {},
   "outputs": [
    {
     "name": "stdout",
     "output_type": "stream",
     "text": [
      "\u001b[H\u001b[2J**************************************************\n",
      "       Welcome to the Python Loop Showcase!       \n",
      "**************************************************\n",
      "\n",
      "Let's create a colorful display:\n",
      "\n",
      "\u001b[91mH\u001b[92me\u001b[93ml\u001b[94ml\u001b[95mo\u001b[96m,\u001b[0m \u001b[91mW\u001b[92mo\u001b[93mr\u001b[94ml\u001b[95md\u001b[96m!\u001b[0m\n",
      "\n",
      "Looping through a string:\n",
      "\n",
      "P y t h o n   i s   f u n ! \n",
      "\n",
      "Creating a pattern using nested loops:\n",
      "\n",
      "* \n",
      "* * \n",
      "* * * \n",
      "* * * * \n",
      "* * * * * \n"
     ]
    }
   ],
   "source": [
    "import time\n",
    "import os\n",
    "\n",
    "# Clear the console (works on most systems)\n",
    "def clear_console():\n",
    "    os.system('cls' if os.name == 'nt' else 'clear')\n",
    "\n",
    "# Function to create a banner\n",
    "def create_banner(text, width=50):\n",
    "    # Center the text\n",
    "    centered_text = text.center(width)\n",
    "    # Create a decorative border\n",
    "    border = '*' * width\n",
    "    # Print the banner\n",
    "    print(border)\n",
    "    print(centered_text)\n",
    "    print(border)\n",
    "\n",
    "# Function to create a colorful effect\n",
    "def colorful_banner(text):\n",
    "    colors = [\"\\033[91m\", \"\\033[92m\", \"\\033[93m\", \"\\033[94m\", \"\\033[95m\", \"\\033[96m\", \"\\033[0m\"]\n",
    "    \n",
    "    # Loop through each character in the text\n",
    "    for i, char in enumerate(text):\n",
    "        color = colors[i % len(colors)]  # Cycle through colors\n",
    "        print(f\"{color}{char}\", end='', flush=True)\n",
    "        time.sleep(0.1)  # Add a small delay for effect\n",
    "    print(\"\\033[0m\")  # Reset color\n",
    "\n",
    "# Main function to run the presentation\n",
    "def main():\n",
    "    clear_console()\n",
    "    title = \"Welcome to the Python Loop Showcase!\"\n",
    "    \n",
    "    # Create the banner\n",
    "    create_banner(title)\n",
    "    \n",
    "    # Add a pause\n",
    "    time.sleep(1)\n",
    "    \n",
    "    # Colorful text presentation\n",
    "    print(\"\\nLet's create a colorful display:\\n\")\n",
    "    colorful_banner(\"Hello, World!\")\n",
    "    \n",
    "    # Add a pause\n",
    "    time.sleep(1)\n",
    "    \n",
    "    # String looping example\n",
    "    print(\"\\nLooping through a string:\\n\")\n",
    "    text = \"Python is fun!\"\n",
    "    for char in text:\n",
    "        print(char, end=' ', flush=True)\n",
    "        time.sleep(0.3)  # Add a small delay\n",
    "    print()  # New line at the end\n",
    "    \n",
    "    # Nested loop example\n",
    "    print(\"\\nCreating a pattern using nested loops:\\n\")\n",
    "    for i in range(5):\n",
    "        for j in range(i + 1):\n",
    "            print('*', end=' ')\n",
    "        print()  # New line after each row\n",
    "\n",
    "# Run the presentation\n",
    "if __name__ == \"__main__\":\n",
    "    main()\n"
   ]
  },
  {
   "cell_type": "raw",
   "metadata": {},
   "source": [
    "- Here is a creative use of infinite and endless loops to create a cool set of patterns \n",
    "- There is also a use of nested loops and emojis to create a cool visual presentation"
   ]
  },
  {
   "cell_type": "code",
   "execution_count": 2,
   "metadata": {},
   "outputs": [
    {
     "name": "stdout",
     "output_type": "stream",
     "text": [
      "\u001b[H\u001b[2J\u001b[H\u001b[2J\u001b[91mWelcome to the Aesthetic Presentation!\u001b[0m\n",
      "\u001b[H\u001b[2J\u001b[92mWelcome to the Aesthetic Presentation!\u001b[0m\n",
      "\u001b[H\u001b[2J\u001b[93mWelcome to the Aesthetic Presentation!\u001b[0m\n",
      "\u001b[H\u001b[2J\u001b[94mWelcome to the Aesthetic Presentation!\u001b[0m\n",
      "\u001b[H\u001b[2J\u001b[95mWelcome to the Aesthetic Presentation!\u001b[0m\n",
      "\u001b[H\u001b[2J\u001b[96mWelcome to the Aesthetic Presentation!\u001b[0m\n",
      "\u001b[H\u001b[2J\u001b[91mWelcome to the Aesthetic Presentation!\u001b[0m\n",
      "\u001b[H\u001b[2J\u001b[92mWelcome to the Aesthetic Presentation!\u001b[0m\n",
      "\u001b[H\u001b[2J\u001b[93mWelcome to the Aesthetic Presentation!\u001b[0m\n",
      "\u001b[H\u001b[2J\u001b[94mWelcome to the Aesthetic Presentation!\u001b[0m\n",
      "\u001b[H\u001b[2J\u001b[95mWelcome to the Aesthetic Presentation!\u001b[0m\n",
      "\u001b[H\u001b[2J\u001b[96mWelcome to the Aesthetic Presentation!\u001b[0m\n",
      "\u001b[H\u001b[2J\u001b[91mWelcome to the Aesthetic Presentation!\u001b[0m\n",
      "\u001b[H\u001b[2J\u001b[92mWelcome to the Aesthetic Presentation!\u001b[0m\n",
      "\u001b[H\u001b[2J\u001b[93mWelcome to the Aesthetic Presentation!\u001b[0m\n",
      "\u001b[H\u001b[2J\u001b[94mWelcome to the Aesthetic Presentation!\u001b[0m\n",
      "\u001b[H\u001b[2J\u001b[95mWelcome to the Aesthetic Presentation!\u001b[0m\n",
      "\u001b[H\u001b[2J\u001b[96mWelcome to the Aesthetic Presentation!\u001b[0m\n",
      "\u001b[H\u001b[2J\u001b[91mWelcome to the Aesthetic Presentation!\u001b[0m\n",
      "\u001b[H\u001b[2J\u001b[92mWelcome to the Aesthetic Presentation!\u001b[0m\n",
      "\u001b[H\u001b[2J\u001b[93mWelcome to the Aesthetic Presentation!\u001b[0m\n",
      "\u001b[H\u001b[2J\u001b[94mWelcome to the Aesthetic Presentation!\u001b[0m\n",
      "\u001b[H\u001b[2J\u001b[95mWelcome to the Aesthetic Presentation!\u001b[0m\n",
      "\u001b[H\u001b[2J\u001b[96mWelcome to the Aesthetic Presentation!\u001b[0m\n",
      "\u001b[H\u001b[2J\u001b[91mWelcome to the Aesthetic Presentation!\u001b[0m\n",
      "\u001b[H\u001b[2J\u001b[92mWelcome to the Aesthetic Presentation!\u001b[0m\n",
      "\u001b[H\u001b[2J\u001b[93mWelcome to the Aesthetic Presentation!\u001b[0m\n",
      "\u001b[H\u001b[2J\u001b[94mWelcome to the Aesthetic Presentation!\u001b[0m\n",
      "\u001b[H\u001b[2J\u001b[95mWelcome to the Aesthetic Presentation!\u001b[0m\n",
      "\u001b[H\u001b[2J\u001b[96mWelcome to the Aesthetic Presentation!\u001b[0m\n",
      "\u001b[H\u001b[2J\u001b[91mWelcome to the Aesthetic Presentation!\u001b[0m\n",
      "\u001b[H\u001b[2JPresentation ended. Thank you!\n"
     ]
    }
   ],
   "source": [
    "import os\n",
    "import time\n",
    "import itertools\n",
    "\n",
    "# Clear the console\n",
    "def clear_console():\n",
    "    os.system('cls' if os.name == 'nt' else 'clear')\n",
    "\n",
    "# Function to display a moving pattern\n",
    "def moving_pattern():\n",
    "    clear_console()\n",
    "    pattern = \"*-*-*--*--*-*-*\"\n",
    "    while True:\n",
    "        for i in range(len(pattern)):\n",
    "            clear_console()\n",
    "            print(pattern[i:] + pattern[:i])  # Create a shifting effect\n",
    "            time.sleep(0.2)  # Delay for effect\n",
    "\n",
    "# Function to display a colorful message\n",
    "def colorful_message():\n",
    "    clear_console()\n",
    "    colors = [\"\\033[91m\", \"\\033[92m\", \"\\033[93m\", \"\\033[94m\", \"\\033[95m\", \"\\033[96m\"]\n",
    "    message = \"Welcome to the Aesthetic Presentation!\"\n",
    "    while True:\n",
    "        for color in itertools.cycle(colors):\n",
    "            clear_console()\n",
    "            print(f\"{color}{message}\\033[0m\")  # Print in color\n",
    "            time.sleep(0.5)  # Change color every half a second\n",
    "\n",
    "# Main function to run the presentation\n",
    "def main():\n",
    "    try:\n",
    "        # You can uncomment one of the following lines to run different presentations\n",
    "        # moving_pattern()\n",
    "        colorful_message()\n",
    "    except KeyboardInterrupt:\n",
    "        clear_console()\n",
    "        print(\"Presentation ended. Thank you!\")\n",
    "\n",
    "# Run the presentation\n",
    "if __name__ == \"__main__\":\n",
    "    main()"
   ]
  },
  {
   "cell_type": "code",
   "execution_count": 3,
   "metadata": {},
   "outputs": [
    {
     "name": "stdout",
     "output_type": "stream",
     "text": [
      "\u001b[H\u001b[2J😀 🎉 🌟 💖 🌈 \n",
      "🎉 🌟 💖 🌈 😀 \n",
      "🌟 💖 🌈 😀 🎉 \n",
      "💖 🌈 😀 🎉 🌟 \n",
      "🌈 😀 🎉 🌟 💖 \n"
     ]
    }
   ],
   "source": [
    "import os\n",
    "import time\n",
    "\n",
    "# Clear the console\n",
    "def clear_console():\n",
    "    os.system('cls' if os.name == 'nt' else 'clear')\n",
    "\n",
    "# Function to create an emoji pattern\n",
    "def emoji_pattern(rows, cols):\n",
    "    emojis = [\"😀\", \"🎉\", \"🌟\", \"💖\", \"🌈\"]\n",
    "    \n",
    "    clear_console()\n",
    "    for i in range(rows):\n",
    "        for j in range(cols):\n",
    "            print(emojis[(i + j) % len(emojis)], end=' ')\n",
    "        print()  # New line after each row\n",
    "        time.sleep(0.5)  # Delay for effect\n",
    "\n",
    "# Function to display a colorful message with emojis\n",
    "def colorful_message():\n",
    "    emojis = [\"✨\", \"🚀\", \"🌼\", \"🌊\", \"🔥\"]\n",
    "    message = \"Welcome to the Emoji Presentation!\"\n",
    "    \n",
    "    while True:\n",
    "        clear_console()\n",
    "        for emoji in emojis:\n",
    "            print(f\"{emoji} {message} {emoji}\")\n",
    "            time.sleep(0.5)  # Delay for effect\n",
    "\n",
    "# Main function to run the presentation\n",
    "def main():\n",
    "    try:\n",
    "        # Set the number of rows and columns for the emoji pattern\n",
    "        emoji_pattern(5, 5)\n",
    "        \n",
    "        # Uncomment to display a colorful message\n",
    "        # colorful_message()\n",
    "        \n",
    "    except KeyboardInterrupt:\n",
    "        clear_console()\n",
    "        print(\"Presentation ended. Thank you!\")\n",
    "\n",
    "# Run the presentation\n",
    "if __name__ == \"__main__\":\n",
    "    main()"
   ]
  }
 ],
 "metadata": {
  "kernelspec": {
   "display_name": "Python 3",
   "language": "python",
   "name": "python3"
  },
  "language_info": {
   "codemirror_mode": {
    "name": "ipython",
    "version": 3
   },
   "file_extension": ".py",
   "mimetype": "text/x-python",
   "name": "python",
   "nbconvert_exporter": "python",
   "pygments_lexer": "ipython3",
   "version": "3.10.12"
  }
 },
 "nbformat": 4,
 "nbformat_minor": 2
}
