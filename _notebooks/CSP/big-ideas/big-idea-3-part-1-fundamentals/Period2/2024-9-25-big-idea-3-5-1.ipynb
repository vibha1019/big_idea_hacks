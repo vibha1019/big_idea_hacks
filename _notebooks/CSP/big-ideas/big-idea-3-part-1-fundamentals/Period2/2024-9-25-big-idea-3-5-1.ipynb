{
 "cells": [
  {
   "cell_type": "raw",
   "metadata": {
    "vscode": {
     "languageId": "raw"
    }
   },
   "source": [
    "---\n",
    "toc: false\n",
    "comments: true\n",
    "layout: post\n",
    "title: 3.5.1 Boolean Values Python (P2)\n",
    "description: Student led teaching on Iteration. Learn how to do loops with Java and Python.\n",
    "permalink: /csp/big-idea/p2/3-5-1\n",
    "categories: [CSP Big Ideas]\n",
    "author:  Shriya, Lalita, Ethan, Manas\n",
    "menu: nav/csp_units/csp_unit3_p2_fundamentals.html\n",
    "---"
   ]
  },
  {
   "cell_type": "markdown",
   "metadata": {},
   "source": [
    "# Boolean Python\n",
    "\n",
    "- A Boolean value can only be true or false.\n",
    "- A Boolean expression, when evaluated, results in a Boolean value of either true or false."
   ]
  },
  {
   "cell_type": "markdown",
   "metadata": {},
   "source": [
    "## <mark><b>Relational operators!:</b></mark> \n",
    "- Used to test the relationship between 2 variables, expressions, or values. These relational operators are used for comparisons and they evaluate to a Boolean value (true or false).\n",
    "\n",
    "<b>Ex.</b> a > b is only true if a is greater than b otherwise it is false \n",
    "\n",
    "- a == b (equals)\t\n",
    "- a != b (not equal to)\n",
    "- a > b (greater than)\n",
    "- a < b (less than)\n",
    "- a >= b (greater than or equal to)\n",
    "- a <= b (less than or equal to)\n"
   ]
  },
  {
   "cell_type": "markdown",
   "metadata": {},
   "source": [
    "<b>Example:</b> The legal age to drive in California is 16 years old. How would we write a Boolean expression to check if someone is at least 16 years old?\n",
    "\n",
    "age >= 16\n",
    "\n",
    "To make this show you would run the following commands :\n",
    "\n",
    "age = 17  # Example age\n",
    "\n",
    "is_eligible_to_work = age >= 16\n",
    "\n",
    "print(is_eligible_to_work)  # Output: True if age is 16 or more, False otherwise\n"
   ]
  },
  {
   "cell_type": "markdown",
   "metadata": {},
   "source": [
    "- A company offers free shipping for orders of at least $50. Write a Boolean expression to check if the total order amount qualifies for free shipping.\n",
    "```python\n",
    "(cost1 + cost2 + cost3)/3 >= 50\n",
    "\n",
    "- We can also run the following :\n",
    "\n",
    "order_amount = 55  # Example order amount\n",
    "is_eligible_for_free_shipping = order_amount >= 50\n",
    "print(is_eligible_for_free_shipping)  # Output: True if order amount is 50 or more, False otherwise\n"
   ]
  },
  {
   "cell_type": "markdown",
   "metadata": {},
   "source": [
    "## <mark><b>Logical operators:</b></mark>\n",
    "Used to evaluate multiple conditions to produce a single Boolean value.\n",
    "\n",
    "- <b>NOT</b>\tevaluates to true if condition is false, otherwise evaluates to false\n",
    "- <b>AND</b>\tevaluates to true if both conditions are true, otherwise evaluates to false\n",
    "- <b>OR</b>\tevaluates to true if either condition is true or if both conditions are true, otherwise evaluates to false"
   ]
  },
  {
   "cell_type": "markdown",
   "metadata": {},
   "source": [
    "<b>Example:</b> You win the game if you score at least 10 points and have 5 lives left or if you score at least 50 points and have more than 0 lives left. Write the Boolean expression for this scenario.\n",
    "\n",
    "(score >= 10 AND lives == 5) OR (score == 50 AND lives > 0)"
   ]
  },
  {
   "cell_type": "markdown",
   "metadata": {},
   "source": [
    "<b>Example:</b> Write a Boolean expression to check if the average of height1, height2, and height3 is at least 65 inches.\n",
    "\n",
    "(height1 + height2 + height3) / 3 >= 65"
   ]
  },
  {
   "cell_type": "markdown",
   "metadata": {},
   "source": [
    "<b>Example:</b> Write a Boolean expression to check if the average of height1, height2, and height3 is at least 65 inches.\n",
    "\n",
    "(height1 + height2 + height3) / 3 >= 65"
   ]
  },
  {
   "cell_type": "code",
   "execution_count": null,
   "metadata": {
    "vscode": {
     "languageId": "html"
    }
   },
   "outputs": [],
   "source": [
    "    <script src=\"https://utteranc.es/client.js\"\n",
    "        repo=\"manas12709/portfolio_2025\"\n",
    "        issue-term=\"pathname\"\n",
    "        label=\"utterances\"\n",
    "        theme=\"github-light\"\n",
    "        crossorigin=\"anonymous\"\n",
    "        async>\n",
    "    </script>"
   ]
  }
 ],
 "metadata": {
  "kernelspec": {
   "display_name": "Python 3",
   "language": "python",
   "name": "python3"
  },
  "language_info": {
   "codemirror_mode": {
    "name": "ipython",
    "version": 3
   },
   "file_extension": ".py",
   "mimetype": "text/x-python",
   "name": "python",
   "nbconvert_exporter": "python",
   "pygments_lexer": "ipython3",
   "version": "3.12.3"
  }
 },
 "nbformat": 4,
 "nbformat_minor": 2
}
