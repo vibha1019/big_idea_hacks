{
 "cells": [
  {
   "cell_type": "raw",
   "metadata": {
    "vscode": {
     "languageId": "raw"
    }
   },
   "source": [
    "---\n",
    "toc: false\n",
    "comments: true\n",
    "layout: post\n",
    "title: 3.5.3 Booleans Hack (P2)\n",
    "description: Student led teaching on Booleans. Learn how booleans are used in decision-making with logical operators. \n",
    "permalink: /csp/big-idea/p2/3-5-3\n",
    "categories: [CSP Big Ideas]\n",
    "author: Shriya, Lalita, Manas, Ethan\n",
    "menu: nav/csp_units/csp_unit3_p2_fundamentals.html\n",
    "---"
   ]
  },
  {
   "cell_type": "markdown",
   "metadata": {},
   "source": [
    "# Homework Hack"
   ]
  },
  {
   "cell_type": "markdown",
   "metadata": {},
   "source": [
    "### Create a Logic Gates Simulator in Python and Java this demonstrates how different logical operations (AND, OR, NOT, NAND, NOR, XOR) work with various inputs. This can visually represent how truth tables function."
   ]
  },
  {
   "cell_type": "markdown",
   "metadata": {},
   "source": [
    "### Logic Gate Simulator in Python"
   ]
  },
  {
   "cell_type": "code",
   "execution_count": 1,
   "metadata": {},
   "outputs": [
    {
     "name": "stdout",
     "output_type": "stream",
     "text": [
      "A     B | AND | OR | NOT A\n",
      "---------------------------\n",
      "1     1     | 1    | 1   | False\n",
      "1     0     | 0    | 1   | False\n",
      "0     1     | 0    | 1   | True\n",
      "0     0     | 0    | 0   | True\n"
     ]
    }
   ],
   "source": [
    "def AND(A, B):\n",
    "    return A and B\n",
    "\n",
    "def OR(A, B):\n",
    "    return A or B\n",
    "\n",
    "def NOT(A):\n",
    "    return not A\n",
    "\n",
    "print(\"A     B | AND | OR | NOT A\")\n",
    "print(\"---------------------------\")\n",
    "for A in [True, False]:\n",
    "    for B in [True, False]:\n",
    "        print(f\"{A:<5} {B:<5} | {AND(A, B):<4} | {OR(A, B):<3} | {NOT(A)}\")\n"
   ]
  },
  {
   "cell_type": "markdown",
   "metadata": {},
   "source": [
    "### Logic Gate Simulator in Java"
   ]
  },
  {
   "cell_type": "code",
   "execution_count": 2,
   "metadata": {
    "vscode": {
     "languageId": "javascript"
    }
   },
   "outputs": [
    {
     "data": {
      "application/javascript": "\nimport java.util.Scanner;\n\npublic class LogicGateSimulator {\n\n    // Define logic gate functions\n    public static boolean AND(boolean A, boolean B) {\n        return A && B;\n    }\n\n    public static boolean OR(boolean A, boolean B) {\n        return A || B;\n    }\n\n    public static boolean NOT(boolean A) {\n        return !A;\n    }\n\n    public static boolean NAND(boolean A, boolean B) {\n        return !(A && B);\n    }\n\n    public static boolean NOR(boolean A, boolean B) {\n        return !(A || B);\n    }\n\n    public static boolean XOR(boolean A, boolean B) {\n        return A ^ B;\n    }\n\n    // Display the results of the logic gates\n    public static void displayGateOperations(boolean A, boolean B) {\n        System.out.println(\"A: \" + A + \", B: \" + B);\n        System.out.println(\"AND: \" + AND(A, B));\n        System.out.println(\"OR: \" + OR(A, B));\n        System.out.println(\"NOT A: \" + NOT(A));\n        System.out.println(\"NAND: \" + NAND(A, B));\n        System.out.println(\"NOR: \" + NOR(A, B));\n        System.out.println(\"XOR: \" + XOR(A, B));\n        System.out.println(\"-----------------------------\");\n    }\n\n    public static void main(String[] args) {\n        Scanner scanner = new Scanner(System.in);\n        System.out.println(\"Logic Gate Simulator\");\n        System.out.println(\"Enter 'exit' to quit\");\n\n        while (true) {\n            System.out.print(\"Enter value for A (true/false): \");\n            String A_input = scanner.nextLine().trim();\n            if (A_input.equalsIgnoreCase(\"exit\")) {\n                break;\n            }\n            \n            System.out.print(\"Enter value for B (true/false): \");\n            String B_input = scanner.nextLine().trim();\n            if (B_input.equalsIgnoreCase(\"exit\")) {\n                break;\n            }\n            \n            // Convert inputs to boolean\n            boolean A = Boolean.parseBoolean(A_input);\n            boolean B = Boolean.parseBoolean(B_input);\n\n            // Display the results\n            displayGateOperations(A, B);\n        }\n\n        scanner.close();\n    }\n}\n",
      "text/plain": [
       "<IPython.core.display.Javascript object>"
      ]
     },
     "metadata": {},
     "output_type": "display_data"
    }
   ],
   "source": [
    "%%javascript\n",
    "\n",
    "import java.util.Scanner;\n",
    "\n",
    "public class LogicGateSimulator {\n",
    "\n",
    "    // Define logic gate functions\n",
    "    public static boolean AND(boolean A, boolean B) {\n",
    "        return A && B;\n",
    "    }\n",
    "\n",
    "    public static boolean OR(boolean A, boolean B) {\n",
    "        return A || B;\n",
    "    }\n",
    "\n",
    "    public static boolean NOT(boolean A) {\n",
    "        return !A;\n",
    "    }\n",
    "\n",
    "    public static boolean NAND(boolean A, boolean B) {\n",
    "        return !(A && B);\n",
    "    }\n",
    "\n",
    "    public static boolean NOR(boolean A, boolean B) {\n",
    "        return !(A || B);\n",
    "    }\n",
    "\n",
    "    public static boolean XOR(boolean A, boolean B) {\n",
    "        return A ^ B;\n",
    "    }\n",
    "\n",
    "    // Display the results of the logic gates\n",
    "    public static void displayGateOperations(boolean A, boolean B) {\n",
    "        System.out.println(\"A: \" + A + \", B: \" + B);\n",
    "        System.out.println(\"AND: \" + AND(A, B));\n",
    "        System.out.println(\"OR: \" + OR(A, B));\n",
    "        System.out.println(\"NOT A: \" + NOT(A));\n",
    "        System.out.println(\"NAND: \" + NAND(A, B));\n",
    "        System.out.println(\"NOR: \" + NOR(A, B));\n",
    "        System.out.println(\"XOR: \" + XOR(A, B));\n",
    "        System.out.println(\"-----------------------------\");\n",
    "    }\n",
    "\n",
    "    public static void main(String[] args) {\n",
    "        Scanner scanner = new Scanner(System.in);\n",
    "        System.out.println(\"Logic Gate Simulator\");\n",
    "        System.out.println(\"Enter 'exit' to quit\");\n",
    "\n",
    "        while (true) {\n",
    "            System.out.print(\"Enter value for A (true/false): \");\n",
    "            String A_input = scanner.nextLine().trim();\n",
    "            if (A_input.equalsIgnoreCase(\"exit\")) {\n",
    "                break;\n",
    "            }\n",
    "            \n",
    "            System.out.print(\"Enter value for B (true/false): \");\n",
    "            String B_input = scanner.nextLine().trim();\n",
    "            if (B_input.equalsIgnoreCase(\"exit\")) {\n",
    "                break;\n",
    "            }\n",
    "            \n",
    "            // Convert inputs to boolean\n",
    "            boolean A = Boolean.parseBoolean(A_input);\n",
    "            boolean B = Boolean.parseBoolean(B_input);\n",
    "\n",
    "            // Display the results\n",
    "            displayGateOperations(A, B);\n",
    "        }\n",
    "\n",
    "        scanner.close();\n",
    "    }\n",
    "}\n"
   ]
  },
  {
   "cell_type": "code",
   "execution_count": null,
   "metadata": {
    "vscode": {
     "languageId": "html"
    }
   },
   "outputs": [],
   "source": [
    "<script src=\"https://utteranc.es/client.js\"\n",
    "        repo=\"manas12709/portfolio_2025\"\n",
    "        issue-term=\"pathname\"\n",
    "        label=\"utterances\"\n",
    "        theme=\"github-light\"\n",
    "        crossorigin=\"anonymous\"\n",
    "        async>\n",
    "    </script>"
   ]
  }
 ],
 "metadata": {
  "kernelspec": {
   "display_name": "venv",
   "language": "python",
   "name": "python3"
  },
  "language_info": {
   "codemirror_mode": {
    "name": "ipython",
    "version": 3
   },
   "file_extension": ".py",
   "mimetype": "text/x-python",
   "name": "python",
   "nbconvert_exporter": "python",
   "pygments_lexer": "ipython3",
   "version": "3.12.5"
  }
 },
 "nbformat": 4,
 "nbformat_minor": 2
}
