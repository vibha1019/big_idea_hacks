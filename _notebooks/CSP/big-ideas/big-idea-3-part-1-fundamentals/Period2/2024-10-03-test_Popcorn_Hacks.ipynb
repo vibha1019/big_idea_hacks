{
 "cells": [
  {
   "cell_type": "markdown",
   "metadata": {},
   "source": [
    "## 3.8 Popcorn Hacks and Homework"
   ]
  },
  {
   "cell_type": "markdown",
   "metadata": {},
   "source": [
    "---\n",
    "---\n"
   ]
  },
  {
   "cell_type": "markdown",
   "metadata": {},
   "source": [
    "### Popcorn Hack 1"
   ]
  },
  {
   "cell_type": "code",
   "execution_count": 1,
   "metadata": {},
   "outputs": [
    {
     "data": {
      "application/javascript": "for (let i = 1; i < 5; i++) {\n    console.log(i);\n}\n",
      "text/plain": [
       "<IPython.core.display.Javascript object>"
      ]
     },
     "metadata": {},
     "output_type": "display_data"
    }
   ],
   "source": [
    "%%javascript\n",
    "for (let i = 1; i < 5; i++) {\n",
    "    console.log(i);\n",
    "}"
   ]
  },
  {
   "cell_type": "markdown",
   "metadata": {},
   "source": [
    "---"
   ]
  },
  {
   "cell_type": "markdown",
   "metadata": {},
   "source": [
    "### Popcorn Hack 2"
   ]
  },
  {
   "cell_type": "code",
   "execution_count": 4,
   "metadata": {},
   "outputs": [
    {
     "name": "stdout",
     "output_type": "stream",
     "text": [
      "mercedes\n",
      "bmw\n",
      "audi\n"
     ]
    }
   ],
   "source": [
    "cars = ['mercedes' , 'bmw' , 'audi']\n",
    "\n",
    "for car in cars:\n",
    "    print(car)"
   ]
  },
  {
   "cell_type": "markdown",
   "metadata": {},
   "source": [
    "---"
   ]
  },
  {
   "cell_type": "markdown",
   "metadata": {},
   "source": [
    "### Popcorn Hack 3"
   ]
  },
  {
   "cell_type": "code",
   "execution_count": 12,
   "metadata": {},
   "outputs": [
    {
     "name": "stdout",
     "output_type": "stream",
     "text": [
      "Flipped: tails\n",
      "Landed on tails!\n"
     ]
    }
   ],
   "source": [
    "import random\n",
    "\n",
    "flip = \"\"\n",
    "\n",
    "while flip != \"tails\":\n",
    "    flip = random.choice([\"heads\", \"tails\"])\n",
    "    print(f\"Flipped: {flip}\")\n",
    "\n",
    "print(\"Landed on tails!\")"
   ]
  },
  {
   "cell_type": "markdown",
   "metadata": {},
   "source": [
    "---"
   ]
  },
  {
   "cell_type": "markdown",
   "metadata": {},
   "source": [
    "### Homework 1 for 3.8"
   ]
  },
  {
   "cell_type": "code",
   "execution_count": 5,
   "metadata": {},
   "outputs": [
    {
     "name": "stdout",
     "output_type": "stream",
     "text": [
      "name Darsh\n",
      "age 17\n",
      "Darsh\n",
      "17\n"
     ]
    }
   ],
   "source": [
    "person = {'name': 'Darsh', 'age': 17}\n",
    "\n",
    "# Looping through keys using a range\n",
    "keys = list(person.keys())\n",
    "for i in range(len(keys)):\n",
    "    print(keys[i], person[keys[i]])\n",
    "\n",
    "# Looping through values using a range\n",
    "values = list(person.values())\n",
    "for i in range(len(values)):\n",
    "    print(values[i])\n"
   ]
  },
  {
   "cell_type": "code",
   "execution_count": 8,
   "metadata": {},
   "outputs": [
    {
     "data": {
      "application/javascript": "\nconst person = { name: 'Arshia', age: 16 };\n\n// Looping through keys using Object.keys\nconst keys = Object.keys(person);\nfor (let i = 0; i < keys.length; i++) {\n    console.log(keys[i], person[keys[i]]);\n}\n\n// Looping through values using Object.values\nconst values = Object.values(person);\nfor (let i = 0; i < values.length; i++) {\n    console.log(values[i]);\n}\n",
      "text/plain": [
       "<IPython.core.display.Javascript object>"
      ]
     },
     "metadata": {},
     "output_type": "display_data"
    }
   ],
   "source": [
    "%%javascript\n",
    "\n",
    "const person = { name: 'Darsh', age: 17 };\n",
    "\n",
    "// Looping through keys using Object.keys\n",
    "const keys = Object.keys(person);\n",
    "for (let i = 0; i < keys.length; i++) {\n",
    "    console.log(keys[i], person[keys[i]]);\n",
    "}\n",
    "\n",
    "// Looping through values using Object.values\n",
    "const values = Object.values(person);\n",
    "for (let i = 0; i < values.length; i++) {\n",
    "    console.log(values[i]);\n",
    "}\n"
   ]
  },
  {
   "cell_type": "markdown",
   "metadata": {},
   "source": [
    "---"
   ]
  },
  {
   "cell_type": "markdown",
   "metadata": {},
   "source": [
    "### Homework 2 for 3.8"
   ]
  },
  {
   "cell_type": "code",
   "execution_count": 13,
   "metadata": {},
   "outputs": [
    {
     "name": "stdout",
     "output_type": "stream",
     "text": [
      "Buzz\n",
      "51\n",
      "Fizz\n",
      "53\n",
      "54\n",
      "Buzz\n",
      "FizzBoom\n",
      "57\n",
      "58\n",
      "59\n",
      "FizzBuzz\n",
      "61\n",
      "62\n",
      "Boom\n",
      "Fizz\n",
      "Buzz\n",
      "66\n",
      "67\n",
      "Fizz\n",
      "69\n",
      "BuzzBoom\n",
      "71\n",
      "Fizz\n",
      "73\n",
      "74\n",
      "Buzz\n",
      "Fizz\n",
      "Boom\n",
      "78\n",
      "79\n",
      "FizzBuzz\n",
      "81\n",
      "82\n",
      "83\n",
      "FizzBoom\n",
      "Buzz\n",
      "86\n",
      "87\n",
      "Fizz\n",
      "89\n",
      "Buzz\n",
      "Boom\n",
      "Fizz\n",
      "93\n",
      "94\n",
      "Buzz\n",
      "Fizz\n",
      "97\n",
      "Boom\n",
      "99\n",
      "FizzBuzz\n"
     ]
    }
   ],
   "source": [
    "# Task 1: FizzBuzz with a Twist (while loop)\n",
    "\n",
    "# Initialize the starting number\n",
    "number = 50\n",
    "\n",
    "# Loop through numbers from 50 to 100\n",
    "while number <= 100:\n",
    "    output = \"\"\n",
    "    \n",
    "    # Check conditions\n",
    "    if number % 4 == 0:  # Change multiple of 3 to 4\n",
    "        output += \"Fizz\"\n",
    "    if number % 5 == 0:\n",
    "        output += \"Buzz\"\n",
    "    if number % 7 == 0:\n",
    "        output += \"Boom\"\n",
    "    \n",
    "    # If output is empty, print the number\n",
    "    if output == \"\":\n",
    "        print(number)\n",
    "    else:\n",
    "        print(output)\n",
    "    \n",
    "    # Increment the number\n",
    "    number += 1\n"
   ]
  },
  {
   "cell_type": "code",
   "execution_count": 14,
   "metadata": {},
   "outputs": [
    {
     "name": "stdout",
     "output_type": "stream",
     "text": [
      "Login successful!\n"
     ]
    }
   ],
   "source": [
    "# Task 2: User Authentication System\n",
    "\n",
    "# Predefined credentials\n",
    "correct_username = \"user123\"\n",
    "correct_password = \"pass123\"\n",
    "max_attempts = 3\n",
    "\n",
    "# User login function\n",
    "def user_login():\n",
    "    for attempts in range(max_attempts):\n",
    "        username = input(\"Enter username: \")\n",
    "        password = input(\"Enter password: \")\n",
    "        if username == correct_username and password == correct_password:\n",
    "            print(\"Login successful!\")\n",
    "            return True\n",
    "        print(f\"Incorrect. {max_attempts - attempts - 1} attempts left.\")\n",
    "    print(\"Account is locked.\")\n",
    "    return False\n",
    "\n",
    "# Password reset function\n",
    "def reset_password():\n",
    "    if input(\"Security question: First pet's name? \") == \"your_pet_name\":\n",
    "        new_password = input(\"Enter new password: \")\n",
    "        global correct_password\n",
    "        correct_password = new_password\n",
    "        print(\"Password reset successfully!\")\n",
    "    else:\n",
    "        print(\"Incorrect answer.\")\n",
    "\n",
    "# Main process\n",
    "if not user_login():\n",
    "    reset_password()\n"
   ]
  }
 ],
 "metadata": {
  "kernelspec": {
   "display_name": "venv",
   "language": "python",
   "name": "python3"
  },
  "language_info": {
   "codemirror_mode": {
    "name": "ipython",
    "version": 3
   },
   "file_extension": ".py",
   "mimetype": "text/x-python",
   "name": "python",
   "nbconvert_exporter": "python",
   "pygments_lexer": "ipython3",
   "version": "3.12.3"
  }
 },
 "nbformat": 4,
 "nbformat_minor": 2
}
