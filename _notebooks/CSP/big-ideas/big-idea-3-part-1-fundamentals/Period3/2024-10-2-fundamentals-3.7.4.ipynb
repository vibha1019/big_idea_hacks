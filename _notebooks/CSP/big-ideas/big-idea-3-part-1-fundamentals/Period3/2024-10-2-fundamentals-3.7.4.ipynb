{
 "cells": [
  {
   "cell_type": "markdown",
   "metadata": {},
   "source": [
    "---\n",
    "toc: false\n",
    "comments: true\n",
    "layout: post\n",
    "title: 3.7 Homework Question\n",
    "description: Test your understanding of nested conditionals\n",
    "permalink: /csp/big-idea/p3/3-7-4\n",
    "categories: [CSP Big Ideas]\n",
    "author:  Zoe, Avika, Rutvik, Jonah, Aarush\n",
    "menu: nav/csp_units/csp_unit3_p3_fundamentals.html\n",
    "---"
   ]
  },
  {
   "cell_type": "markdown",
   "metadata": {},
   "source": [
    "<style>\n",
    "  /* Global styling for the notebook with dark background */\n",
    "  body {\n",
    "      font-family: 'Arial', sans-serif;\n",
    "      background-color: #2c3e50;\n",
    "      color: #ecf0f1;\n",
    "  }\n",
    "\n",
    "  /* Styling headers with lighter text and borders */\n",
    "  h1, h2, h3, h4, h5 {\n",
    "      color: #ecf0f1;\n",
    "      border-bottom: 2px solid #9b59b6; /* Amethyst purple */\n",
    "      padding-bottom: 5px;\n",
    "      margin-bottom: 15px;\n",
    "  }\n",
    "\n",
    "  /* Custom style for inline code */\n",
    "  code {\n",
    "      background-color: #34495e;\n",
    "      color: #8e44ad; /* Deep purple */\n",
    "      padding: 2px 5px;\n",
    "      border-radius: 4px;\n",
    "  }\n",
    "\n",
    "  /* Custom style for preformatted code blocks */\n",
    "  pre {\n",
    "      background-color: #2b2b2b;\n",
    "      color: #f1f1f1;\n",
    "      padding: 10px;\n",
    "      border-radius: 5px;\n",
    "      border: 1px solid #9b59b6; /* Updated border color to amethyst */\n",
    "      overflow-x: auto;\n",
    "  }\n",
    "\n",
    "  /* Code block syntax highlighting */\n",
    "  .hljs-keyword, .hljs-selector-tag, .hljs-subst {\n",
    "      color: #9b59b6; /* Keywords now purple */\n",
    "  }\n",
    "\n",
    "  .hljs-string, .hljs-attr, .hljs-symbol, .hljs-bullet, .hljs-addition {\n",
    "      color: #a6e22e; /* Strings */\n",
    "  }\n",
    "\n",
    "  .hljs-title, .hljs-section, .hljs-attribute {\n",
    "      color: #e6db74; /* Function titles and sections */\n",
    "  }\n",
    "\n",
    "  .hljs-variable, .hljs-template-variable {\n",
    "      color: #fd971f; /* Variables */\n",
    "  }\n",
    "\n",
    "  .hljs-comment, .hljs-quote, .hljs-deletion {\n",
    "      color: #75715e; /* Comments */\n",
    "  }\n",
    "\n",
    "  .hljs-number, .hljs-regexp, .hljs-literal, .hljs-type, .hljs-built_in, .hljs-builtin-name {\n",
    "      color: #ae81ff; /* Numbers and built-ins */\n",
    "  }\n",
    "\n",
    "  .hljs-meta {\n",
    "      color: #66d9ef; /* Meta information */\n",
    "  }\n",
    "\n",
    "  .hljs-emphasis {\n",
    "      font-style: italic;\n",
    "  }\n",
    "\n",
    "  .hljs-strong {\n",
    "      font-weight: bold;\n",
    "  }\n",
    "\n",
    "  /* Highlight blockquotes in purple */\n",
    "  blockquote {\n",
    "      border-left: 4px solid #8e44ad; /* Deep purple */\n",
    "      padding-left: 10px;\n",
    "      color: #ecf0f1;\n",
    "      font-style: italic;\n",
    "      background-color: #2d2d2d;\n",
    "      padding: 10px;\n",
    "      border-radius: 4px;\n",
    "  }\n",
    "\n",
    "  /* Styling for emphasized text */\n",
    "  em {\n",
    "      color: #8e44ad; /* Purple for emphasized text */\n",
    "      font-style: italic;\n",
    "  }\n",
    "\n",
    "  /* Style for bold text */\n",
    "  strong {\n",
    "      color: #ecf0f1;\n",
    "      font-weight: bold;\n",
    "  }\n",
    "\n",
    "  /* Menu styling */\n",
    "  .menu {\n",
    "      background-color: #9b59b6; /* Amethyst purple */\n",
    "      color: white;\n",
    "      padding: 10px;\n",
    "      border-radius: 5px;\n",
    "      text-align: center;\n",
    "  }\n",
    "\n",
    "  .menu a {\n",
    "      color: #f39c12; /* Orange links in menu */\n",
    "      text-decoration: none;\n",
    "      padding: 0 10px;\n",
    "  }\n",
    "\n",
    "  .menu a:hover {\n",
    "      color: #8e44ad; /* Purple on hover */\n",
    "  }\n",
    "\n",
    "  /* Adjust the styling for markdown lists */\n",
    "  ul {\n",
    "      list-style-type: square;\n",
    "      color: #ecf0f1;\n",
    "  }\n",
    "\n",
    "  /* Styling tables with dark theme */\n",
    "  table {\n",
    "      border-collapse: collapse;\n",
    "      width: 100%;\n",
    "      background-color: #48345e;\n",
    "  }\n",
    "  \n",
    "  table, th, td {\n",
    "      border: 1px solid #7f8c8d;\n",
    "      padding: 8px;\n",
    "      color: #ecf0f1;\n",
    "  }\n",
    "\n",
    "  th {\n",
    "      background-color: #9b59b6; /* Purple for table headers */\n",
    "      color: white;\n",
    "  }\n",
    "\n",
    "  /* Custom styling for links with better visibility */\n",
    "  a {\n",
    "      color: #9b59b6; /* Purple links */\n",
    "      text-decoration: none;\n",
    "  }\n",
    "\n",
    "  a:hover {\n",
    "      text-decoration: underline;\n",
    "      color: #8e44ad; /* Dark purple on hover */\n",
    "  }\n",
    "</style>\n"
   ]
  },
  {
   "cell_type": "code",
   "execution_count": 14,
   "metadata": {},
   "outputs": [
    {
     "data": {
      "text/html": [
       "<style>/* custom.css */\n",
       "body {\n",
       "    background-color: #47719e;  /* Set the background color to blue */\n",
       "    color: white;                /* Optional: Change text color to white for better contrast */\n",
       "}\n",
       "\n",
       "/* Optional: Change the background color of the code cells */\n",
       "div.cell {\n",
       "    background-color: #0056b3;  /* Darker blue for code cells */\n",
       "}\n",
       "\n",
       "/* Optional: Change the background color of the markdown cells */\n",
       "div.text_cell_render {\n",
       "    background-color: #0056b3;  /* Darker blue for markdown cells */\n",
       "}\n",
       "</style>"
      ],
      "text/plain": [
       "<IPython.core.display.HTML object>"
      ]
     },
     "execution_count": 14,
     "metadata": {},
     "output_type": "execute_result"
    }
   ],
   "source": [
    "from IPython.core.display import HTML\n",
    "def load_css():\n",
    "    styles = open(\"custom2.css\", \"r\").read()\n",
    "    return HTML(f\"<style>{styles}</style>\")\n",
    "load_css()"
   ]
  },
  {
   "cell_type": "markdown",
   "metadata": {},
   "source": [
    "## Testing Your Skills (Hack #1)\n",
    "- Create a simple system using `if` and `else` statements that determines whether or not a user (based on their age) is eligible to vote\n",
    "- If the person is less than 18 years old, they should not be able to vote\n",
    "- If the person is 18 years old or older, they are able to vote \n",
    "- You should get something like this:"
   ]
  },
  {
   "cell_type": "code",
   "execution_count": 15,
   "metadata": {},
   "outputs": [],
   "source": [
    "def check_voting_eligibility(age):\n",
    "    \"\"\"Check if the user is eligible to vote based on age.\"\"\"\n",
    "    if age >= 18:\n",
    "        return \"You are eligible to vote.\"\n",
    "    else:\n",
    "        return \"You are not eligible to vote.\""
   ]
  },
  {
   "cell_type": "markdown",
   "metadata": {},
   "source": [
    "## Explanation\n",
    "- The if statement checks if the user's age is greater than or equal to 18. If they are 18, that means that the statement is true and will print \"You are eligible to vote.\" If the age requirement is not met, that means the statement will be false and the else statement will print \"You are not eligible to vote.\""
   ]
  },
  {
   "cell_type": "markdown",
   "metadata": {},
   "source": [
    "## Quick Quiz\n",
    "- What would the function output if the user's age was 16?\n",
    "- A: It would say, \"You are not eligible to vote.\"\n",
    "- When the age of the user is less than 18, what is the condition in the if statement?\n",
    "- A: age < 18, meaning that the statement is false\n",
    "- What is the purpose of the if statement in the function?\n",
    "- A: To check if the user is eligible to vote"
   ]
  },
  {
   "cell_type": "markdown",
   "metadata": {},
   "source": [
    "## Hack #2\n",
    "- Create a simple system using `if` and `else` statements that determines what the user would eat\n",
    "- If the person is healthy, make them eat an apple\n",
    "- If the person doesn't care about what they eat, make them drink coffee\n",
    "- If the person is unhealthy, make them eat chocolate\n",
    "- You should get something like this:"
   ]
  },
  {
   "cell_type": "code",
   "execution_count": 16,
   "metadata": {
    "vscode": {
     "languageId": "javascript"
    }
   },
   "outputs": [
    {
     "ename": "SyntaxError",
     "evalue": "invalid syntax (4079008279.py, line 1)",
     "output_type": "error",
     "traceback": [
      "\u001b[0;36m  File \u001b[0;32m\"/tmp/ipykernel_742471/4079008279.py\"\u001b[0;36m, line \u001b[0;32m1\u001b[0m\n\u001b[0;31m    // Get user input\u001b[0m\n\u001b[0m    ^\u001b[0m\n\u001b[0;31mSyntaxError\u001b[0m\u001b[0;31m:\u001b[0m invalid syntax\n"
     ]
    }
   ],
   "source": [
    "// Get user input\n",
    "let healthStatus = prompt(\"Are you healthy, unhealthy, or indifferent about food? (healthy/unhealthy/indifferent)\").toLowerCase();\n",
    "\n",
    "if (healthStatus === \"healthy\") {\n",
    "    console.log(\"You should eat an apple!\");\n",
    "} else {\n",
    "    // Check for the other conditions within the else block\n",
    "    if (healthStatus === \"unhealthy\") {\n",
    "        console.log(\"You should eat chocolate!\");\n",
    "    } else {\n",
    "        console.log(\"You don't care about what you eat. How about a coffee?\");\n",
    "    }\n",
    "}"
   ]
  },
  {
   "cell_type": "markdown",
   "metadata": {},
   "source": [
    "## Explanation\n",
    "- The if statement checks if the user's health status is \"healthy.\" If this condition is true, the program will print \"You should eat an apple!\" indicating a healthy choice.\n",
    "- If the health status is not \"healthy,\" the else statement is executed. Within this block, another if statement checks if the user's health status is \"unhealthy.\" If this condition is true, the program will print \"You should eat chocolate!\"\n",
    "- Lastly, if neither condition is met when the user doesn't care about what they eat, the else statement will execute, printing \"You don't care about what you eat. How about a coffee?\" This covers the case for users who are indifferent about their food choices. Keep in mind, you can also achieve this same result using `elif statements` instead of having to create chains of `if` and `else statements`. However, it's important to note that `elif statements` are NOT nested conditionals because they form a single-level structure."
   ]
  },
  {
   "cell_type": "code",
   "execution_count": null,
   "metadata": {},
   "outputs": [],
   "source": [
    "# Get user input\n",
    "health_status = input(\"Are you healthy, unhealthy, or indifferent about food? (healthy/unhealthy/indifferent): \").strip().lower()\n",
    "if health_status == \"healthy\":\n",
    "    print(\"You should eat an apple!\")\n",
    "elif health_status == \"unhealthy\":\n",
    "    print(\"You should eat chocolate!\")\n",
    "elif health_status == \"indifferent\":\n",
    "    print(\"You don't care about what you eat. How about a coffee?\")\n",
    "else:\n",
    "    print(\"Invalid input! Please enter 'healthy', 'unhealthy', or 'indifferent'.\")"
   ]
  },
  {
   "cell_type": "markdown",
   "metadata": {},
   "source": [
    "- Notice how there's no inner constructs with `elif statements`"
   ]
  },
  {
   "cell_type": "markdown",
   "metadata": {},
   "source": [
    "## Quick Quiz\n",
    "- What would the function output if the user's age was healthy?\n",
    "- A: It would say, \"You should eat an apple!\"\n",
    "- When the age of the user is unhealthy, what is the condition in the if statement?\n",
    "- A: Since the user is unhealthy, it doesn't meet the requirements for eating an apple, meaning that the statement is false\n",
    "- How can you use `elif statements` to replace the `if and else statement` chains?\n",
    "- A: You could get something like this:\n",
    "- Why are `elif statements` not nested conditionals?\n",
    "- A:  Because they are not nested and form a flat structure, they are not conditional statements"
   ]
  }
 ],
 "metadata": {
  "kernelspec": {
   "display_name": "Python 3.12.5 64-bit",
   "language": "python",
   "name": "python3"
  },
  "language_info": {
   "name": "python",
   "version": "3.12.5"
  },
  "orig_nbformat": 4,
  "vscode": {
   "interpreter": {
    "hash": "b0fa6594d8f4cbf19f97940f81e996739fb7646882a419484c72d19e05852a7e"
   }
  }
 },
 "nbformat": 4,
 "nbformat_minor": 2
}
