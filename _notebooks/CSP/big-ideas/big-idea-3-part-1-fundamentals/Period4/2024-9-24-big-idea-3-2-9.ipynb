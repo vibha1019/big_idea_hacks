{
 "cells": [
  {
   "cell_type": "raw",
   "metadata": {
    "vscode": {
     "languageId": "raw"
    }
   },
   "source": [
    "---\n",
    "toc: false\n",
    "comments: true\n",
    "layout: post\n",
    "title: 3.2.9 None and null\n",
    "permalink: /csp/big-idea/p4/3-2-9\n",
    "categories: [CSP Big Ideas]\n",
    "author: Ian, Collin, Aarush, Thomas\n",
    "menu: nav/csp_units/csp_unit3_p4_fundamentals.html\n",
    "---"
   ]
  },
  {
   "cell_type": "markdown",
   "metadata": {},
   "source": [
    "<style>\n",
    "body {\n",
    "    background-color: #e6f0ff !important;\n",
    "    color: black !important;\n",
    "}\n",
    "article {\n",
    "    background-color: #cce5ff !important;\n",
    "    color: black !important;\n",
    "    border: 2px solid #66b3ff !important;\n",
    "    padding: 20px !important;\n",
    "    border-radius: 64px !important;\n",
    "}\n",
    "h1, h2, h3, h4, p {\n",
    "    color: black !important;\n",
    "}\n",
    "blockquote {\n",
    "    background-color: #272726 !important;\n",
    "    border-left: 4px solid #66b3ff !important;\n",
    "    color: black !important;\n",
    "    padding: 10px 20px !important;\n",
    "    margin: 10px 0 !important;\n",
    "    border-radius: 64px !important;\n",
    "}\n",
    "code {\n",
    "    color: cyan !important; /* Changed to cyan */\n",
    "    padding: 2px 4px !important;\n",
    "    border-radius: 64px !important;\n",
    "}\n",
    "table td {\n",
    "    background-color: #3385ff !important;\n",
    "}\n",
    "</style>\n"
   ]
  },
  {
   "cell_type": "markdown",
   "metadata": {},
   "source": [
    "<style>\n",
    "\t.glow {\n",
    "\t\tborder-radius: 20%;\n",
    "\t}\n",
    "\t.glow:hover {\n",
    "\t\tcolor: black;\n",
    "\t\tbackground: gray;\n",
    "\t\tbox-shadow: 0 0 100px gray;\n",
    "\t}\n",
    "</style>\n",
    "\n",
    "# <span class=\"glow\" style=\"font-family: Monospace; color: white\">(Hover Over Me) 3.2.9 None:</span>"
   ]
  },
  {
   "cell_type": "markdown",
   "metadata": {},
   "source": [
    "## None in Python\n",
    "\n",
    "The None keyword is used to define a null value, or no value at all. None is not the same as 0, False, or an empty string. None is a data type of its own (NoneType) and only None can be None."
   ]
  },
  {
   "cell_type": "code",
   "execution_count": 1,
   "metadata": {},
   "outputs": [
    {
     "name": "stdout",
     "output_type": "stream",
     "text": [
      "The result has no value.\n"
     ]
    }
   ],
   "source": [
    "# Assigning None to a variable\n",
    "result = None\n",
    "\n",
    "# Checking if a variable is None\n",
    "if result is None:\n",
    "    print(\"The result has no value.\")\n",
    "else:\n",
    "    print(\"The result has a value:\", result)\n",
    "\n",
    "# None is commonly used as a default argument in functions\n",
    "def my_function(value=None):\n",
    "    if value is None:\n",
    "        print(\"No value provided.\")\n",
    "    else:\n",
    "        print(\"Value provided:\", value)\n"
   ]
  },
  {
   "cell_type": "markdown",
   "metadata": {},
   "source": [
    "# Javascript Version"
   ]
  },
  {
   "cell_type": "code",
   "execution_count": 2,
   "metadata": {
    "vscode": {
     "languageId": "javascript"
    }
   },
   "outputs": [
    {
     "data": {
      "application/javascript": "// Assigning null to a variable\nlet result = null;\n\n// Checking if a variable is null\nif (result === null) {\n    console.log(\"The result has no value.\");\n} else {\n    console.log(\"The result has a value:\", result);\n}\n\n// null is often used as a default value in function arguments\nfunction myFunction(value = null) {\n    if (value === null) {\n        console.log(\"No value provided.\");\n    } else {\n        console.log(\"Value provided:\", value);\n}\n}\n\n// Calling the function with and without a value\nmyFunction();        // No value provided.\nmyFunction(42);      // Value provided: 42\n",
      "text/plain": [
       "<IPython.core.display.Javascript object>"
      ]
     },
     "metadata": {},
     "output_type": "display_data"
    }
   ],
   "source": [
    "%%js\n",
    "// Assigning null to a variable\n",
    "let result = null;\n",
    "\n",
    "// Checking if a variable is null\n",
    "if (result === null) {\n",
    "    console.log(\"The result has no value.\");\n",
    "} else {\n",
    "    console.log(\"The result has a value:\", result);\n",
    "}\n",
    "\n",
    "// null is often used as a default value in function arguments\n",
    "function myFunction(value = null) {\n",
    "    if (value === null) {\n",
    "        console.log(\"No value provided.\");\n",
    "    } else {\n",
    "        console.log(\"Value provided:\", value);\n",
    "}\n",
    "}\n",
    "\n",
    "// Calling the function with and without a value\n",
    "myFunction();        // No value provided.\n",
    "myFunction(42);      // Value provided: 42\n"
   ]
  }
 ],
 "metadata": {
  "kernelspec": {
   "display_name": "venv",
   "language": "python",
   "name": "python3"
  },
  "language_info": {
   "codemirror_mode": {
    "name": "ipython",
    "version": 3
   },
   "file_extension": ".py",
   "mimetype": "text/x-python",
   "name": "python",
   "nbconvert_exporter": "python",
   "pygments_lexer": "ipython3",
   "version": "3.12.6"
  }
 },
 "nbformat": 4,
 "nbformat_minor": 2
}
