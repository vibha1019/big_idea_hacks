{
 "cells": [
  {
   "cell_type": "raw",
   "metadata": {
    "vscode": {
     "languageId": "raw"
    }
   },
   "source": [
    "---\n",
    "toc: false\n",
    "comments: true\n",
    "layout: post\n",
    "title: 3.2.1 Integers\n",
    "permalink: /csp/big-idea/p4/3-2-1\n",
    "categories: [CSP Big Ideas]\n",
    "author: Ian, Collin, Aarush, Thomas\n",
    "menu: nav/csp_units/csp_unit3_p4_fundamentals.html\n",
    "---\n"
   ]
  },
  {
   "cell_type": "markdown",
   "metadata": {},
   "source": [
    "<style>\n",
    "body {\n",
    "    background-color: #e6f0ff !important;\n",
    "    color: black !important;\n",
    "}\n",
    "article {\n",
    "    background-color: #cce5ff !important;\n",
    "    color: black !important;\n",
    "    border: 2px solid #66b3ff !important;\n",
    "    padding: 20px !important;\n",
    "    border-radius: 64px !important;\n",
    "}\n",
    "h1, h2, h3, h4, p {\n",
    "    color: black !important;\n",
    "}\n",
    "blockquote {\n",
    "    background-color: #272726 !important;\n",
    "    border-left: 4px solid #66b3ff !important;\n",
    "    color: black !important;\n",
    "    padding: 10px 20px !important;\n",
    "    margin: 10px 0 !important;\n",
    "    border-radius: 64px !important;\n",
    "}\n",
    "code {\n",
    "    color: cyan !important; /* Changed to cyan */\n",
    "    padding: 2px 4px !important;\n",
    "    border-radius: 64px !important;\n",
    "}\n",
    "table td {\n",
    "    background-color: #3385ff !important;\n",
    "}\n",
    "</style>\n"
   ]
  },
  {
   "cell_type": "markdown",
   "metadata": {},
   "source": [
    "<style>\n",
    "\t.glow {\n",
    "\t\tborder-radius: 20%;\n",
    "\t}\n",
    "\t.glow:hover {\n",
    "\t\tcolor: black;\n",
    "\t\tbackground: gray;\n",
    "\t\tbox-shadow: 0 0 100px gray;\n",
    "\t}\n",
    "</style>\n",
    "\n",
    "# <span class=\"glow\" style=\"font-family: Monospace; color: white\">(Hover Over Me) 3.2.1 Integers:</span>"
   ]
  },
  {
   "cell_type": "markdown",
   "metadata": {},
   "source": [
    "## Integers in Python\n",
    "\n",
    "Integers are whole numbers, which can be positive, negative, or zero, and do not have decimal points. In Python, you can perform various arithmetic operations with integers, making them essential for calculations and counting.\n"
   ]
  },
  {
   "cell_type": "markdown",
   "metadata": {},
   "source": [
    "from IPython.core.display import HTML; set_custom_css = lambda: HTML('<style>body {background-color: #e6f0ff !important; color: black !important;} article {background-color: #cce5ff !important; color: black !important; border: 2px solid #66b3ff !important; padding: 20px !important; border-radius: 64px !important;} h1, h2, h3, h4, p {color: black !important;} blockquote {background-color: #272726 !important; border-left: 4px solid #66b3ff !important; color: black !important; padding: 10px 20px !important; margin: 10px 0 !important; border-radius: 64px !important\n"
   ]
  },
  {
   "cell_type": "markdown",
   "metadata": {},
   "source": [
    "# Javascript Version"
   ]
  },
  {
   "cell_type": "code",
   "execution_count": 1,
   "metadata": {
    "vscode": {
     "languageId": "javascript"
    }
   },
   "outputs": [
    {
     "data": {
      "application/javascript": "// Player Scores\nlet player1_score = 45; // Player 1's score\nlet player2_score = 30; // Player 2's score\n\n// Displaying Scores\nconsole.log(\"Player 1 Score:\", player1_score);\nconsole.log(\"Player 2 Score:\", player2_score);\nconsole.log(\"-\".repeat(30));\n\n// Total Score Calculation\nlet total_score = player1_score + player2_score;\nconsole.log(\"Total Score:\", total_score); // Sum of both scores\n\n// Score Difference\nlet score_difference = player1_score - player2_score;\nconsole.log(\"Score Difference:\", score_difference); // Difference between scores\n\n// Multiplying Scores\nconsole.log(\"Player 1 Score multiplied by 2:\", player1_score * 2); // Multiplication\n",
      "text/plain": [
       "<IPython.core.display.Javascript object>"
      ]
     },
     "metadata": {},
     "output_type": "display_data"
    }
   ],
   "source": [
    "%%js\n",
    "// Player Scores\n",
    "let player1_score = 45; // Player 1's score\n",
    "let player2_score = 30; // Player 2's score\n",
    "\n",
    "// Displaying Scores\n",
    "console.log(\"Player 1 Score:\", player1_score);\n",
    "console.log(\"Player 2 Score:\", player2_score);\n",
    "console.log(\"-\".repeat(30));\n",
    "\n",
    "// Total Score Calculation\n",
    "let total_score = player1_score + player2_score;\n",
    "console.log(\"Total Score:\", total_score); // Sum of both scores\n",
    "\n",
    "// Score Difference\n",
    "let score_difference = player1_score - player2_score;\n",
    "console.log(\"Score Difference:\", score_difference); // Difference between scores\n",
    "\n",
    "// Multiplying Scores\n",
    "console.log(\"Player 1 Score multiplied by 2:\", player1_score * 2); // Multiplication\n"
   ]
  }
 ],
 "metadata": {
  "kernelspec": {
   "display_name": "venv",
   "language": "python",
   "name": "python3"
  },
  "language_info": {
   "codemirror_mode": {
    "name": "ipython",
    "version": 3
   },
   "file_extension": ".py",
   "mimetype": "text/x-python",
   "name": "python",
   "nbconvert_exporter": "python",
   "pygments_lexer": "ipython3",
   "version": "3.12.6"
  }
 },
 "nbformat": 4,
 "nbformat_minor": 2
}
