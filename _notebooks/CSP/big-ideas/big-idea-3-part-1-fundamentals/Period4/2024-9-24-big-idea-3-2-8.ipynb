{
 "cells": [
  {
   "cell_type": "raw",
   "metadata": {
    "vscode": {
     "languageId": "raw"
    }
   },
   "source": [
    "---\n",
    "toc: false\n",
    "comments: true\n",
    "layout: post\n",
    "title: 3.2.8 Booleans \n",
    "permalink: /csp/big-idea/p4/3-2-8\n",
    "categories: [CSP Big Ideas]\n",
    "author: Ian, Collin, Aarush, Thomas\n",
    "menu: nav/csp_units/csp_unit3_p4_fundamentals.html\n",
    "---"
   ]
  },
  {
   "cell_type": "markdown",
   "metadata": {},
   "source": [
    "<style>\n",
    "body {\n",
    "    background-color: #e6f0ff !important;\n",
    "    color: black !important;\n",
    "}\n",
    "article {\n",
    "    background-color: #cce5ff !important;\n",
    "    color: black !important;\n",
    "    border: 2px solid #66b3ff !important;\n",
    "    padding: 20px !important;\n",
    "    border-radius: 64px !important;\n",
    "}\n",
    "h1, h2, h3, h4, p {\n",
    "    color: black !important;\n",
    "}\n",
    "blockquote {\n",
    "    background-color: #272726 !important;\n",
    "    border-left: 4px solid #66b3ff !important;\n",
    "    color: black !important;\n",
    "    padding: 10px 20px !important;\n",
    "    margin: 10px 0 !important;\n",
    "    border-radius: 64px !important;\n",
    "}\n",
    "code {\n",
    "    color: cyan !important; /* Changed to cyan */\n",
    "    padding: 2px 4px !important;\n",
    "    border-radius: 64px !important;\n",
    "}\n",
    "table td {\n",
    "    background-color: #3385ff !important;\n",
    "}\n",
    "</style>\n"
   ]
  },
  {
   "cell_type": "markdown",
   "metadata": {},
   "source": [
    "<style>\n",
    "\t.glow {\n",
    "\t\tborder-radius: 20%;\n",
    "\t}\n",
    "\t.glow:hover {\n",
    "\t\tcolor: black;\n",
    "\t\tbackground: gray;\n",
    "\t\tbox-shadow: 0 0 100px gray;\n",
    "\t}\n",
    "</style>\n",
    "\n",
    "# <span class=\"glow\" style=\"font-family: Monospace; color: white\">(Hover Over Me) 3.2.8 Booleans:</span>"
   ]
  },
  {
   "cell_type": "markdown",
   "metadata": {},
   "source": [
    "## Boolean in Python\n",
    "\n",
    "A **boolean** in Python is a data type that can hold one of two possible values: `True` or `False`. It is often used in conditional statements to control the flow of a program. Booleans are derived from the concept of Boolean logic, which is fundamental in computer science.\n",
    "\n",
    "### Example\n",
    "\n",
    "```python\n",
    "# Defining boolean variables\n",
    "is_active = True\n",
    "is_complete = False\n",
    "\n",
    "# Using booleans in conditional statements\n",
    "if is_active:\n",
    "    print(\"The process is active.\")\n",
    "else:\n",
    "    print(\"The process is not active.\")\n"
   ]
  },
  {
   "cell_type": "code",
   "execution_count": 1,
   "metadata": {},
   "outputs": [
    {
     "name": "stdout",
     "output_type": "stream",
     "text": [
      "print(7 <= 10): True\n",
      "print(7 != 10): True\n",
      "print(7 == 10): False\n",
      "\n",
      "num1 is 15, num2 is 30\n",
      "num1 is less than num2\n",
      "\n",
      "Non-empty string 'Python': True\n",
      "Zero: False\n",
      "Non-empty dictionary {}: True\n",
      "Empty dictionary {}: False\n"
     ]
    }
   ],
   "source": [
    "# Boolean Comparisons\n",
    "print(\"print(7 <= 10):\", 7 <= 10)   # True\n",
    "print(\"print(7 != 10):\", 7 != 10)   # True\n",
    "print(\"print(7 == 10):\", 7 == 10)    # False\n",
    "\n",
    "# Variables\n",
    "num1 = 15\n",
    "num2 = 30\n",
    "\n",
    "print(\"\\nnum1 is 15, num2 is 30\")\n",
    "\n",
    "if num1 < num2:\n",
    "    print(\"num1 is less than num2\")\n",
    "else:\n",
    "    print(\"num1 is not less than num2\")\n",
    "\n",
    "# Evaluating Truthiness\n",
    "# Any non-empty string is considered True\n",
    "# Any non-zero integer is considered True\n",
    "# Empty lists and dictionaries are considered False\n",
    "print(\"\\nNon-empty string 'Python':\", bool(\"Python\"))  # True\n",
    "print(\"Zero:\", bool(0))                                # False\n",
    "print(\"Non-empty dictionary {}:\", bool({\"key\": \"value\"}))  # True\n",
    "print(\"Empty dictionary {}:\", bool({}))                # False"
   ]
  },
  {
   "cell_type": "markdown",
   "metadata": {},
   "source": [
    "# Javascript Version"
   ]
  },
  {
   "cell_type": "code",
   "execution_count": 2,
   "metadata": {
    "vscode": {
     "languageId": "javascript"
    }
   },
   "outputs": [
    {
     "data": {
      "application/javascript": "// Boolean Comparisons\nconsole.log(\"console.log(7 <= 10):\", 7 <= 10);  // true\nconsole.log(\"console.log(7 != 10):\", 7 != 10);  // true\nconsole.log(\"console.log(7 == 10):\", 7 == 10);  // false\n\n// Variables\nlet num1 = 15;\nlet num2 = 30;\n\nconsole.log(\"\\nnum1 is 15, num2 is 30\");\n\nif (num1 < num2) {\n    console.log(\"num1 is less than num2\");\n} else {\n    console.log(\"num1 is not less than num2\");\n}\n\n// Evaluating Truthiness\n// Any non-empty string is considered true\n// Any non-zero integer is considered true\n// Empty arrays and objects are considered false\nconsole.log(\"\\nNon-empty string 'JavaScript':\", Boolean(\"JavaScript\"));  // true\nconsole.log(\"Zero:\", Boolean(0));                                      // false\nconsole.log(\"Non-empty object {}:\", Boolean({ key: \"value\" }));       // true\nconsole.log(\"Empty object {}:\", Boolean({}));                           // false\n",
      "text/plain": [
       "<IPython.core.display.Javascript object>"
      ]
     },
     "metadata": {},
     "output_type": "display_data"
    }
   ],
   "source": [
    "%%js\n",
    "// Boolean Comparisons\n",
    "console.log(\"console.log(7 <= 10):\", 7 <= 10);  // true\n",
    "console.log(\"console.log(7 != 10):\", 7 != 10);  // true\n",
    "console.log(\"console.log(7 == 10):\", 7 == 10);  // false\n",
    "\n",
    "// Variables\n",
    "let num1 = 15;\n",
    "let num2 = 30;\n",
    "\n",
    "console.log(\"\\nnum1 is 15, num2 is 30\");\n",
    "\n",
    "if (num1 < num2) {\n",
    "    console.log(\"num1 is less than num2\");\n",
    "} else {\n",
    "    console.log(\"num1 is not less than num2\");\n",
    "}\n",
    "\n",
    "// Evaluating Truthiness\n",
    "// Any non-empty string is considered true\n",
    "// Any non-zero integer is considered true\n",
    "// Empty arrays and objects are considered false\n",
    "console.log(\"\\nNon-empty string 'JavaScript':\", Boolean(\"JavaScript\"));  // true\n",
    "console.log(\"Zero:\", Boolean(0));                                      // false\n",
    "console.log(\"Non-empty object {}:\", Boolean({ key: \"value\" }));       // true\n",
    "console.log(\"Empty object {}:\", Boolean({}));                           // false\n"
   ]
  }
 ],
 "metadata": {
  "kernelspec": {
   "display_name": "venv",
   "language": "python",
   "name": "python3"
  },
  "language_info": {
   "codemirror_mode": {
    "name": "ipython",
    "version": 3
   },
   "file_extension": ".py",
   "mimetype": "text/x-python",
   "name": "python",
   "nbconvert_exporter": "python",
   "pygments_lexer": "ipython3",
   "version": "3.12.6"
  }
 },
 "nbformat": 4,
 "nbformat_minor": 2
}
