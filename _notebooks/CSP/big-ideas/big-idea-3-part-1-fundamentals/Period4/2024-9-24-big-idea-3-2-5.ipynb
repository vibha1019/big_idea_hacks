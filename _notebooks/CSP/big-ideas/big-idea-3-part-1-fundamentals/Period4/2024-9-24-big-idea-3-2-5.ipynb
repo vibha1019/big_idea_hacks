{
 "cells": [
  {
   "cell_type": "raw",
   "metadata": {
    "vscode": {
     "languageId": "raw"
    }
   },
   "source": [
    "--- \n",
    "toc: false \n",
    "comments: true \n",
    "layout: post \n",
    "title: 3.2.5 Tuples\n",
    "permalink: /csp/big-idea/p4/3-2-5\n",
    "categories: [CSP Big Ideas] \n",
    "author: Ian, Collin, Aarush, Thomas \n",
    "menu: nav/csp_units/csp_unit3_p4_fundamentals.html\n",
    "---\n"
   ]
  },
  {
   "cell_type": "markdown",
   "metadata": {},
   "source": [
    "<style>\n",
    "body {\n",
    "    background-color: #e6f0ff !important;\n",
    "    color: black !important;\n",
    "}\n",
    "article {\n",
    "    background-color: #cce5ff !important;\n",
    "    color: black !important;\n",
    "    border: 2px solid #66b3ff !important;\n",
    "    padding: 20px !important;\n",
    "    border-radius: 64px !important;\n",
    "}\n",
    "h1, h2, h3, h4, p {\n",
    "    color: black !important;\n",
    "}\n",
    "blockquote {\n",
    "    background-color: #272726 !important;\n",
    "    border-left: 4px solid #66b3ff !important;\n",
    "    color: black !important;\n",
    "    padding: 10px 20px !important;\n",
    "    margin: 10px 0 !important;\n",
    "    border-radius: 64px !important;\n",
    "}\n",
    "code {\n",
    "    color: cyan !important; /* Changed to cyan */\n",
    "    padding: 2px 4px !important;\n",
    "    border-radius: 64px !important;\n",
    "}\n",
    "table td {\n",
    "    background-color: #3385ff !important;\n",
    "}\n",
    "</style>\n"
   ]
  },
  {
   "cell_type": "markdown",
   "metadata": {},
   "source": [
    "<style>\n",
    "\t.glow {\n",
    "\t\tborder-radius: 20%;\n",
    "\t}\n",
    "\t.glow:hover {\n",
    "\t\tcolor: black;\n",
    "\t\tbackground: gray;\n",
    "\t\tbox-shadow: 0 0 100px gray;\n",
    "\t}\n",
    "</style>\n",
    "\n",
    "# <span class=\"glow\" style=\"font-family: Monospace; color: white\">(Hover Over Me) 3.2.5 Tuples:</span>\n",
    "\n",
    "## Definition\n",
    "A tuple is an ordered, immutable collection of elements.  \n",
    "Tuples are similar to lists, but unlike lists, they cannot be changed once defined.  \n",
    "Tuples are created using parentheses `()`.\n",
    "\n",
    "## Example of a Tuple\n",
    "\n",
    "```python\n",
    "# Creating a tuple\n",
    "coordinates = (10.5, 12.7)\n",
    "\n",
    "# Accessing elements in a tuple by index\n",
    "x = coordinates[0]  # First element (index 0)\n",
    "y = coordinates[1]  # Second element (index 1)\n",
    "\n",
    "# Output\n",
    "print(\"Tuple Example:\")\n",
    "print(f\"X coordinate: {x}\")  # Output: X coordinate: 10.5\n",
    "print(f\"Y coordinate: {y}\")  # Output: Y coordinate: 12.7\n"
   ]
  },
  {
   "cell_type": "code",
   "execution_count": 1,
   "metadata": {},
   "outputs": [
    {
     "name": "stdout",
     "output_type": "stream",
     "text": [
      "Color Tuple: (255, 0, 128)\n",
      "--------------------------------------------------\n",
      "Length of colorTuple:\n",
      "3\n",
      "--------------------------------------------------\n",
      "Unpacking the tuple:\n",
      "Red: 255\n",
      "Green: 0\n",
      "Blue: 128\n",
      "--------------------------------------------------\n",
      "Repetition of colorTuple:\n",
      "(255, 0, 128, 255, 0, 128)\n",
      "--------------------------------------------------\n",
      "Minimum value in colorTuple:\n",
      "0\n",
      "Maximum value:\n",
      "255\n",
      "Sum of RGB values:\n",
      "383\n",
      "--------------------------------------------------\n"
     ]
    }
   ],
   "source": [
    "# Tuples are often used in different scenarios, such as storing RGB color values, coordinates, or points in geometry.\n",
    "# Tuples are immutable, meaning their contents can't be changed after creation.\n",
    "\n",
    "colorTuple = (255, 0, 128)  # RGB color value (red, green, blue)\n",
    "print(\"Color Tuple:\", colorTuple)\n",
    "print(\"-\"*50)\n",
    "\n",
    "# Tuple Length\n",
    "print(\"Length of colorTuple:\")\n",
    "print(len(colorTuple))\n",
    "print(\"-\"*50)\n",
    "\n",
    "# Tuple Unpacking\n",
    "print(\"Unpacking the tuple:\")  # Quickly assign each value to a variable\n",
    "red, green, blue = colorTuple  # Assigns the RGB values to separate variables\n",
    "print(\"Red:\", red)\n",
    "print(\"Green:\", green)\n",
    "print(\"Blue:\", blue)\n",
    "print(\"-\"*50)\n",
    "\n",
    "# Tuple Repetition\n",
    "print(\"Repetition of colorTuple:\")  # Repeats the tuple values 2 times\n",
    "print(colorTuple * 2)\n",
    "print(\"-\"*50)\n",
    "\n",
    "# Min, Max, Sum\n",
    "print(\"Minimum value in colorTuple:\")  # Finds the smallest value\n",
    "print(min(colorTuple))\n",
    "print(\"Maximum value:\")\n",
    "print(max(colorTuple))\n",
    "print(\"Sum of RGB values:\")\n",
    "print(sum(colorTuple))\n",
    "print(\"-\"*50)\n"
   ]
  },
  {
   "cell_type": "markdown",
   "metadata": {},
   "source": [
    "# Javascript Version"
   ]
  },
  {
   "cell_type": "code",
   "execution_count": 11,
   "metadata": {
    "vscode": {
     "languageId": "javascript"
    }
   },
   "outputs": [
    {
     "data": {
      "application/javascript": "// Tuples are often used in different scenarios, such as storing RGB color values, coordinates, or points in geometry.\n// Tuples are immutable, meaning their contents cant be changed after creation.\n\nconst colorTuple = [255, 0, 128]; // RGB color value (red, green, blue)\nconsole.log(\"Color Tuple:\", colorTuple);\nconsole.log(\"-\".repeat(50));\n\n// Tuple Length\nconsole.log(\"Length of colorTuple:\");\nconsole.log(colorTuple.length);\nconsole.log(\"-\".repeat(50));\n\n// Tuple Unpacking\nconsole.log(\"Unpacking the tuple:\"); // Quickly assign each value to a variable\nconst [red, green, blue] = colorTuple; // Assigns the RGB values to separate variables\nconsole.log(\"Red:\", red);\nconsole.log(\"Green:\", green);\nconsole.log(\"Blue:\", blue);\nconsole.log(\"-\".repeat(50));\n\n// Tuple Repetition\nconsole.log(\"Repetition of colorTuple:\"); // Repeats the tuple values 2 times\nconsole.log(colorTuple.concat(colorTuple));\nconsole.log(\"-\".repeat(50));\n\n// Min, Max, Sum\nconsole.log(\"Minimum value in colorTuple:\"); // Finds the smallest value\nconsole.log(Math.min(...colorTuple));\nconsole.log(\"Maximum value:\");\nconsole.log(Math.max(...colorTuple));\nconsole.log(\"Sum of RGB values:\");\nconsole.log(colorTuple.reduce((acc, value) => acc + value, 0));\nconsole.log(\"-\".repeat(50));\n",
      "text/plain": [
       "<IPython.core.display.Javascript object>"
      ]
     },
     "metadata": {},
     "output_type": "display_data"
    }
   ],
   "source": [
    "%%js\n",
    "// Tuples are often used in different scenarios, such as storing RGB color values, coordinates, or points in geometry.\n",
    "// Tuples are immutable, meaning their contents cant be changed after creation.\n",
    "\n",
    "const colorTuple = [255, 0, 128]; // RGB color value (red, green, blue)\n",
    "console.log(\"Color Tuple:\", colorTuple);\n",
    "console.log(\"-\".repeat(50));\n",
    "\n",
    "// Tuple Length\n",
    "console.log(\"Length of colorTuple:\");\n",
    "console.log(colorTuple.length);\n",
    "console.log(\"-\".repeat(50));\n",
    "\n",
    "// Tuple Unpacking\n",
    "console.log(\"Unpacking the tuple:\"); // Quickly assign each value to a variable\n",
    "const [red, green, blue] = colorTuple; // Assigns the RGB values to separate variables\n",
    "console.log(\"Red:\", red);\n",
    "console.log(\"Green:\", green);\n",
    "console.log(\"Blue:\", blue);\n",
    "console.log(\"-\".repeat(50));\n",
    "\n",
    "// Tuple Repetition\n",
    "console.log(\"Repetition of colorTuple:\"); // Repeats the tuple values 2 times\n",
    "console.log(colorTuple.concat(colorTuple));\n",
    "console.log(\"-\".repeat(50));\n",
    "\n",
    "// Min, Max, Sum\n",
    "console.log(\"Minimum value in colorTuple:\"); // Finds the smallest value\n",
    "console.log(Math.min(...colorTuple));\n",
    "console.log(\"Maximum value:\");\n",
    "console.log(Math.max(...colorTuple));\n",
    "console.log(\"Sum of RGB values:\");\n",
    "console.log(colorTuple.reduce((acc, value) => acc + value, 0));\n",
    "console.log(\"-\".repeat(50));\n"
   ]
  }
 ],
 "metadata": {
  "kernelspec": {
   "display_name": "venv",
   "language": "python",
   "name": "python3"
  },
  "language_info": {
   "codemirror_mode": {
    "name": "ipython",
    "version": 3
   },
   "file_extension": ".py",
   "mimetype": "text/x-python",
   "name": "python",
   "nbconvert_exporter": "python",
   "pygments_lexer": "ipython3",
   "version": "3.12.6"
  }
 },
 "nbformat": 4,
 "nbformat_minor": 2
}
