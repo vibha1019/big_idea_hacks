{
 "cells": [
  {
   "cell_type": "raw",
   "metadata": {
    "vscode": {
     "languageId": "raw"
    }
   },
   "source": [
    "---\n",
    "toc: false\n",
    "comments: true\n",
    "layout: post\n",
    "title: 3.2.2 Float\n",
    "permalink: /csp/big-idea/p4/3-2-2\n",
    "categories: [CSP Big Ideas]\n",
    "author: Ian, Collin, Aarush, Thomas\n",
    "menu: nav/csp_units/csp_unit3_p4_fundamentals.html\n",
    "---"
   ]
  },
  {
   "cell_type": "markdown",
   "metadata": {},
   "source": [
    "<style>\n",
    "body {\n",
    "    background-color: #e6f0ff !important;\n",
    "    color: black !important;\n",
    "}\n",
    "article {\n",
    "    background-color: #cce5ff !important;\n",
    "    color: black !important;\n",
    "    border: 2px solid #66b3ff !important;\n",
    "    padding: 20px !important;\n",
    "    border-radius: 64px !important;\n",
    "}\n",
    "h1, h2, h3, h4, p {\n",
    "    color: black !important;\n",
    "}\n",
    "blockquote {\n",
    "    background-color: #272726 !important;\n",
    "    border-left: 4px solid #66b3ff !important;\n",
    "    color: black !important;\n",
    "    padding: 10px 20px !important;\n",
    "    margin: 10px 0 !important;\n",
    "    border-radius: 64px !important;\n",
    "}\n",
    "code {\n",
    "    color: cyan !important; /* Changed to cyan */\n",
    "    padding: 2px 4px !important;\n",
    "    border-radius: 64px !important;\n",
    "}\n",
    "table td {\n",
    "    background-color: #3385ff !important;\n",
    "}\n",
    "</style>\n"
   ]
  },
  {
   "cell_type": "markdown",
   "metadata": {},
   "source": [
    "<style>\n",
    "\t.glow {\n",
    "\t\tborder-radius: 20%;\n",
    "\t}\n",
    "\t.glow:hover {\n",
    "\t\tcolor: black;\n",
    "\t\tbackground: gray;\n",
    "\t\tbox-shadow: 0 0 100px gray;\n",
    "\t}\n",
    "</style>\n",
    "\n",
    "# <span class=\"glow\" style=\"font-family: Monospace; color: white\">(Hover Over Me) 3.2.2 Floats:</span>"
   ]
  },
  {
   "cell_type": "markdown",
   "metadata": {
    "vscode": {
     "languageId": "plaintext"
    }
   },
   "source": [
    "# Floating in python\n",
    "A floating-point number (or simply \"float\") in Python is a data type used to represent real numbers that have a decimal point. Floats can represent numbers with a fractional part, making them useful for more precise calculations than integers. Python uses double precision to store floating-point numbers, which means they are accurate to about 15 decimal places.\n",
    "\n"
   ]
  },
  {
   "cell_type": "markdown",
   "metadata": {},
   "source": [
    "# Example"
   ]
  },
  {
   "cell_type": "code",
   "execution_count": 1,
   "metadata": {},
   "outputs": [
    {
     "name": "stdout",
     "output_type": "stream",
     "text": [
      "Sum: 7.359999999999999\n",
      "Product: -32.97\n",
      "Square root of z: 4.0\n"
     ]
    }
   ],
   "source": [
    "# Defining floating-point numbers\n",
    "x = 10.5\n",
    "y = -3.14\n",
    "\n",
    "# Performing arithmetic operations with floats\n",
    "sum_of_floats = x + y\n",
    "product_of_floats = x * y\n",
    "\n",
    "print(\"Sum:\", sum_of_floats)  # Output: 7.36\n",
    "print(\"Product:\", product_of_floats)  # Output: -32.97\n",
    "\n",
    "# Using floats in mathematical functions\n",
    "import math\n",
    "\n",
    "z = 16.0\n",
    "print(\"Square root of z:\", math.sqrt(z))  # Output: 4.0\n"
   ]
  },
  {
   "cell_type": "markdown",
   "metadata": {},
   "source": [
    "# Javascript Version"
   ]
  },
  {
   "cell_type": "code",
   "execution_count": 2,
   "metadata": {
    "vscode": {
     "languageId": "javascript"
    }
   },
   "outputs": [
    {
     "data": {
      "application/javascript": "// Defining floating-point numbers\nlet x = 10.5;\nlet y = -3.14;\n\n// Performing arithmetic operations with floats\nlet sumOfFloats = x + y;\nlet productOfFloats = x * y;\n\nconsole.log(\"Sum:\", sumOfFloats);  // Output: 7.36\nconsole.log(\"Product:\", productOfFloats);  // Output: -32.97\n\n// Using floats in mathematical functions\nlet z = 16.0;\nconsole.log(\"Square root of z:\", Math.sqrt(z));  // Output: 4.0\n",
      "text/plain": [
       "<IPython.core.display.Javascript object>"
      ]
     },
     "metadata": {},
     "output_type": "display_data"
    }
   ],
   "source": [
    "%%js\n",
    "// Defining floating-point numbers\n",
    "let x = 10.5;\n",
    "let y = -3.14;\n",
    "\n",
    "// Performing arithmetic operations with floats\n",
    "let sumOfFloats = x + y;\n",
    "let productOfFloats = x * y;\n",
    "\n",
    "console.log(\"Sum:\", sumOfFloats);  // Output: 7.36\n",
    "console.log(\"Product:\", productOfFloats);  // Output: -32.97\n",
    "\n",
    "// Using floats in mathematical functions\n",
    "let z = 16.0;\n",
    "console.log(\"Square root of z:\", Math.sqrt(z));  // Output: 4.0\n"
   ]
  }
 ],
 "metadata": {
  "kernelspec": {
   "display_name": "venv",
   "language": "python",
   "name": "python3"
  },
  "language_info": {
   "codemirror_mode": {
    "name": "ipython",
    "version": 3
   },
   "file_extension": ".py",
   "mimetype": "text/x-python",
   "name": "python",
   "nbconvert_exporter": "python",
   "pygments_lexer": "ipython3",
   "version": "3.12.6"
  }
 },
 "nbformat": 4,
 "nbformat_minor": 2
}
