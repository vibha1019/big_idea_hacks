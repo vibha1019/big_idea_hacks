{
 "cells": [
  {
   "cell_type": "raw",
   "metadata": {
    "vscode": {
     "languageId": "raw"
    }
   },
   "source": [
    "---\n",
    "toc: false\n",
    "comments: true\n",
    "layout: post\n",
    "title: 3.2.7 Sets\n",
    "permalink: /csp/big-idea/p4/3-2-7\n",
    "categories: [CSP Big Ideas]\n",
    "author: Ian, Collin, Aarush, Thomas\n",
    "menu: nav/csp_units/csp_unit3_p4_fundamentals.html\n",
    "---"
   ]
  },
  {
   "cell_type": "markdown",
   "metadata": {},
   "source": [
    "<style>\n",
    "body {\n",
    "    background-color: #e6f0ff !important;\n",
    "    color: black !important;\n",
    "}\n",
    "article {\n",
    "    background-color: #cce5ff !important;\n",
    "    color: black !important;\n",
    "    border: 2px solid #66b3ff !important;\n",
    "    padding: 20px !important;\n",
    "    border-radius: 64px !important;\n",
    "}\n",
    "h1, h2, h3, h4, p {\n",
    "    color: black !important;\n",
    "}\n",
    "blockquote {\n",
    "    background-color: #272726 !important;\n",
    "    border-left: 4px solid #66b3ff !important;\n",
    "    color: black !important;\n",
    "    padding: 10px 20px !important;\n",
    "    margin: 10px 0 !important;\n",
    "    border-radius: 64px !important;\n",
    "}\n",
    "code {\n",
    "    color: cyan !important; /* Changed to cyan */\n",
    "    padding: 2px 4px !important;\n",
    "    border-radius: 64px !important;\n",
    "}\n",
    "table td {\n",
    "    background-color: #3385ff !important;\n",
    "}\n",
    "</style>\n"
   ]
  },
  {
   "cell_type": "markdown",
   "metadata": {},
   "source": [
    "<style>\n",
    "\t.glow {\n",
    "\t\tborder-radius: 20%;\n",
    "\t}\n",
    "\t.glow:hover {\n",
    "\t\tcolor: black;\n",
    "\t\tbackground: gray;\n",
    "\t\tbox-shadow: 0 0 100px gray;\n",
    "\t}\n",
    "</style>\n",
    "\n",
    "# <span class=\"glow\" style=\"font-family: Monospace; color: white\">(Hover Over Me) 3.2.7 Sets:</span>"
   ]
  },
  {
   "cell_type": "markdown",
   "metadata": {},
   "source": [
    "## Introduction to Sets\n",
    "\n",
    "A **set** in Python is an unordered collection of unique elements. Unlike lists or tuples, sets do not allow duplicates. Sets are useful when you need to eliminate duplicate items or perform mathematical operations like union, intersection, and difference.\n",
    "\n",
    "### Key Characteristics of Sets\n",
    "- Sets are unordered, meaning they do not retain the order of elements.\n",
    "- Elements in a set must be unique; no duplicates are allowed.\n",
    "- Sets are mutable; you can add or remove elements.\n"
   ]
  },
  {
   "cell_type": "markdown",
   "metadata": {},
   "source": [
    "## Definition of a Set\n",
    "\n",
    "A set is defined by placing all elements (separated by commas) inside curly braces `{}`. You can also create a set using the `set()` function.\n",
    "\n",
    "### Example:\n",
    "```python\n",
    "my_set = {1, 2, 3, 4, 5}\n"
   ]
  },
  {
   "cell_type": "markdown",
   "metadata": {},
   "source": [
    "## Set Operations\n",
    "\n",
    "Sets support various operations like union, intersection, and difference. Let's look at some common ones:\n",
    "\n",
    "### 1. Adding Elements to a Set\n",
    "You can add elements to a set using the `add()` method.\n",
    "\n",
    "### Example:\n",
    "```python\n",
    "my_set.add(6)\n",
    "print(my_set)  # Output: {1, 2, 3, 4, 5, 6}\n"
   ]
  },
  {
   "cell_type": "code",
   "execution_count": null,
   "metadata": {},
   "outputs": [],
   "source": [
    "```python\n",
    "# Adding Elements to a Set\n",
    "my_set.add(6)\n",
    "print(\"Set after adding 6:\", my_set)  # Output: {1, 2, 3, 4, 5, 6}"
   ]
  },
  {
   "cell_type": "markdown",
   "metadata": {},
   "source": [
    "### 2. Removing Elements from a Set\n",
    "You can remove an element using the `remove()` method. If the element does not exist, Python will raise a `KeyError`.\n",
    "\n",
    "Alternatively, use the `discard()` method to remove an element without raising an error if the element is not present.\n",
    "\n",
    "### Example:\n",
    "```python\n",
    "my_set.remove(4)\n",
    "print(my_set)  # Output: {1, 2, 3, 5, 6}"
   ]
  },
  {
   "cell_type": "code",
   "execution_count": null,
   "metadata": {},
   "outputs": [],
   "source": [
    "```python\n",
    "# Removing Elements from a Set\n",
    "my_set.remove(4)\n",
    "print(\"Set after removing 4:\", my_set)  # Output: {1, 2, 3, 5, 6}"
   ]
  },
  {
   "cell_type": "markdown",
   "metadata": {},
   "source": [
    "### 3. Set Union\n",
    "You can combine two sets using the `union()` method or the `|` operator. This returns a new set with all elements from both sets.\n",
    "\n",
    "### Example:\n",
    "```python\n",
    "set_a = {1, 2, 3}\n",
    "set_b = {3, 4, 5}\n",
    "union_set = set_a.union(set_b)  # Output: {1, 2, 3, 4, 5}"
   ]
  },
  {
   "cell_type": "code",
   "execution_count": null,
   "metadata": {},
   "outputs": [],
   "source": [
    "```python\n",
    "# Set Union\n",
    "set_a = {1, 2, 3}\n",
    "set_b = {3, 4, 5}\n",
    "union_set = set_a.union(set_b)\n",
    "print(\"Union of set_a and set_b:\", union_set)  # Output: {1, 2, 3, 4, 5}"
   ]
  },
  {
   "cell_type": "markdown",
   "metadata": {},
   "source": [
    "### 4. Set Intersection\n",
    "The `intersection()` method or `&` operator returns a set that contains only the elements present in both sets.\n",
    "\n",
    "### Example:\n",
    "```python\n",
    "intersection_set = set_a.intersection(set_b)  # Output: {3}\n"
   ]
  },
  {
   "cell_type": "code",
   "execution_count": null,
   "metadata": {},
   "outputs": [],
   "source": [
    "```python\n",
    "# Set Intersection\n",
    "intersection_set = set_a.intersection(set_b)\n",
    "print(\"Intersection of set_a and set_b:\", intersection_set)  # Output: {3}"
   ]
  },
  {
   "cell_type": "markdown",
   "metadata": {},
   "source": [
    "### 5. Set Difference\n",
    "The `difference()` method returns the elements that are in one set but not in the other.\n",
    "\n",
    "### Example:\n",
    "```python\n",
    "difference_set = set_a.difference(set_b)  # Output: {1, 2}"
   ]
  },
  {
   "cell_type": "code",
   "execution_count": null,
   "metadata": {},
   "outputs": [],
   "source": [
    "\n",
    "```python\n",
    "# Set Difference\n",
    "difference_set = set_a.difference(set_b)\n",
    "print(\"Difference between set_a and set_b:\", difference_set)  # Output: {1, 2}"
   ]
  },
  {
   "cell_type": "markdown",
   "metadata": {},
   "source": [
    "## Set Hacks\n",
    "\n",
    "Try out these challenges to test your understanding of sets!\n",
    "\n",
    "1. Create a set with the numbers `1, 2, 3, 4, 5`. Add the number `6` and remove the number `2`.\n",
    "2. Given two sets, `set_x = {10, 20, 30}` and `set_y = {20, 40, 60}`, find their union and intersection.\n",
    "3. How can you eliminate duplicates from the following list using a set? `my_list = [1, 2, 2, 3, 4, 4, 5]`\n"
   ]
  },
  {
   "cell_type": "code",
   "execution_count": null,
   "metadata": {},
   "outputs": [],
   "source": [
    "# Set Hack 1: Adding and removing elements\n",
    "hack_set = {1, 2, 3, 4, 5}\n",
    "hack_set.add(6)\n",
    "hack_set.remove(2)\n",
    "print(\"Updated Set:\", hack_set)  # Output: {1, 3, 4, 5, 6}\n",
    "\n",
    "# Set Hack 2: Union and intersection\n",
    "set_x = {10, 20, 30}\n",
    "set_y = {20, 40, 60}\n",
    "union_xy = set_x.union(set_y)\n",
    "intersection_xy = set_x.intersection(set_y)\n",
    "print(\"Union:\", union_xy)  # Output: {10, 20, 30, 40, 60}\n",
    "print(\"Intersection:\", intersection_xy)  # Output: {20}\n",
    "\n",
    "# Set Hack 3: Eliminate duplicates using a set\n",
    "my_list = [1, 2, 2, 3, 4, 4, 5]\n",
    "unique_elements = set(my_list)\n",
    "print(\"Unique elements:\", unique_elements)  # Output: {1, 2, 3, 4, 5}\n"
   ]
  },
  {
   "cell_type": "markdown",
   "metadata": {},
   "source": [
    "## Conclusion\n",
    "\n",
    "Sets are an essential data type in Python, providing a way to handle collections of unique elements and perform common mathematical set operations. In this lesson, we explored how to create sets, add and remove elements, and perform set operations like union, intersection, and difference.\n"
   ]
  },
  {
   "cell_type": "markdown",
   "metadata": {},
   "source": []
  }
 ],
 "metadata": {
  "kernelspec": {
   "display_name": "venv",
   "language": "python",
   "name": "python3"
  },
  "language_info": {
   "codemirror_mode": {
    "name": "ipython",
    "version": 3
   },
   "file_extension": ".py",
   "mimetype": "text/x-python",
   "name": "python",
   "nbconvert_exporter": "python",
   "pygments_lexer": "ipython3",
   "version": "3.12.6"
  }
 },
 "nbformat": 4,
 "nbformat_minor": 2
}
