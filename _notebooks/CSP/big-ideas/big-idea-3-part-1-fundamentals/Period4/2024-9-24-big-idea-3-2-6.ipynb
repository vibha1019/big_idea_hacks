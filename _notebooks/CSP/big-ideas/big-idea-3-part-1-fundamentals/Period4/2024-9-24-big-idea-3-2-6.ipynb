{
 "cells": [
  {
   "cell_type": "raw",
   "metadata": {
    "vscode": {
     "languageId": "raw"
    }
   },
   "source": [
    "---\n",
    "toc: false\n",
    "comments: true\n",
    "layout: post\n",
    "title: 3.2.6 Dictionaries\n",
    "permalink: /csp/big-idea/p4/3-2-6\n",
    "categories: [CSP Big Ideas]\n",
    "author: Ian, Collin, Aarush, Thomas\n",
    "menu: nav/csp_units/csp_unit3_p4_fundamentals.html\n",
    "---"
   ]
  },
  {
   "cell_type": "markdown",
   "metadata": {},
   "source": [
    "<style>\n",
    "body {\n",
    "    background-color: #e6f0ff !important;\n",
    "    color: black !important;\n",
    "}\n",
    "article {\n",
    "    background-color: #cce5ff !important;\n",
    "    color: black !important;\n",
    "    border: 2px solid #66b3ff !important;\n",
    "    padding: 20px !important;\n",
    "    border-radius: 64px !important;\n",
    "}\n",
    "h1, h2, h3, h4, p {\n",
    "    color: black !important;\n",
    "}\n",
    "blockquote {\n",
    "    background-color: #272726 !important;\n",
    "    border-left: 4px solid #66b3ff !important;\n",
    "    color: black !important;\n",
    "    padding: 10px 20px !important;\n",
    "    margin: 10px 0 !important;\n",
    "    border-radius: 64px !important;\n",
    "}\n",
    "code {\n",
    "    color: cyan !important; /* Changed to cyan */\n",
    "    padding: 2px 4px !important;\n",
    "    border-radius: 64px !important;\n",
    "}\n",
    "table td {\n",
    "    background-color: #3385ff !important;\n",
    "}\n",
    "</style>\n"
   ]
  },
  {
   "cell_type": "markdown",
   "metadata": {},
   "source": [
    "<style>\n",
    "\t.glow {\n",
    "\t\tborder-radius: 20%;\n",
    "\t}\n",
    "\t.glow:hover {\n",
    "\t\tcolor: black;\n",
    "\t\tbackground: gray;\n",
    "\t\tbox-shadow: 0 0 100px gray;\n",
    "\t}\n",
    "</style>\n",
    "\n",
    "# <span class=\"glow\" style=\"font-family: Monospace; color: white\">(Hover Over Me) 3.2.6 Dictionaries:</span>"
   ]
  },
  {
   "cell_type": "markdown",
   "metadata": {},
   "source": [
    "# Dictionaries in Python\n",
    "\n",
    "Dictionaries are a built-in data type in Python that allows you to store collections of key-value pairs. They are also known as associative arrays or hash maps in other programming languages.\n",
    "\n",
    "## Key Features\n",
    "\n",
    "- **Unordered**: Dictionaries do not maintain the order of the elements. However, as of Python 3.7, they preserve insertion order.\n",
    "- **Mutable**: You can change, add, or remove elements after the dictionary is created.\n",
    "- **Indexed by keys**: Each value is accessed via its unique key rather than an index.\n",
    "\n",
    "## Syntax\n",
    "\n",
    "A dictionary is created by placing a comma-separated sequence of key-value pairs within curly braces `{}`. Each key is separated from its value by a colon `:`."
   ]
  },
  {
   "cell_type": "code",
   "execution_count": 1,
   "metadata": {},
   "outputs": [
    {
     "name": "stdout",
     "output_type": "stream",
     "text": [
      "Student Name: John Doe\n",
      "Student Age: 20\n",
      "Updated Age: 21\n",
      "GPA: 3.5\n",
      "Is Enrolled: False\n",
      "\n",
      "Student Information:\n",
      "name: John Doe\n",
      "age: 21\n",
      "major: Computer Science\n",
      "gpa: 3.5\n"
     ]
    }
   ],
   "source": [
    "# Example of a Dictionary in Python\n",
    "\n",
    "# Creating a dictionary to store information about a student\n",
    "student_info = {\n",
    "    \"name\": \"John Doe\",\n",
    "    \"age\": 20,\n",
    "    \"major\": \"Computer Science\",\n",
    "    \"is_enrolled\": True\n",
    "}\n",
    "\n",
    "# Accessing values\n",
    "print(\"Student Name:\", student_info[\"name\"])  # Output: John Doe\n",
    "print(\"Student Age:\", student_info[\"age\"])    # Output: 20\n",
    "\n",
    "# Updating a value\n",
    "student_info[\"age\"] = 21  # Update the age\n",
    "print(\"Updated Age:\", student_info[\"age\"])    # Output: 21\n",
    "\n",
    "# Adding a new key-value pair\n",
    "student_info[\"gpa\"] = 3.5\n",
    "print(\"GPA:\", student_info[\"gpa\"])  # Output: 3.5\n",
    "\n",
    "# Removing a key-value pair\n",
    "del student_info[\"is_enrolled\"]\n",
    "print(\"Is Enrolled:\", \"is_enrolled\" in student_info)  # Output: False\n",
    "\n",
    "# Looping through the dictionary\n",
    "print(\"\\nStudent Information:\")\n",
    "for key, value in student_info.items():\n",
    "    print(f\"{key}: {value}\")"
   ]
  },
  {
   "cell_type": "markdown",
   "metadata": {},
   "source": [
    "# Javascript Version"
   ]
  },
  {
   "cell_type": "code",
   "execution_count": 2,
   "metadata": {
    "vscode": {
     "languageId": "javascript"
    }
   },
   "outputs": [
    {
     "data": {
      "application/javascript": "// Example of an Object in JavaScript\n\n// Creating an object to store information about a student\nconst studentInfo = {\n    name: \"John Doe\",\n    age: 20,\n    major: \"Computer Science\",\n    isEnrolled: true\n};\n\n// Accessing values\nconsole.log(\"Student Name:\", studentInfo.name);  // Output: John Doe\nconsole.log(\"Student Age:\", studentInfo.age);    // Output: 20\n\n// Updating a value\nstudentInfo.age = 21;  // Update the age\nconsole.log(\"Updated Age:\", studentInfo.age);    // Output: 21\n\n// Adding a new key-value pair\nstudentInfo.gpa = 3.5;\nconsole.log(\"GPA:\", studentInfo.gpa);  // Output: 3.5\n\n// Removing a key-value pair\ndelete studentInfo.isEnrolled;\nconsole.log(\"Is Enrolled:\", studentInfo.isEnrolled === undefined);  // Output: true\n\n// Looping through the object\nconsole.log(\"\\nStudent Information:\");\nfor (const key in studentInfo) {\n    if (studentInfo.hasOwnProperty(key)) {\n        console.log(`${key}: ${studentInfo[key]}`);\n    }\n}\n",
      "text/plain": [
       "<IPython.core.display.Javascript object>"
      ]
     },
     "metadata": {},
     "output_type": "display_data"
    }
   ],
   "source": [
    "%%js\n",
    "// Example of an Object in JavaScript\n",
    "\n",
    "// Creating an object to store information about a student\n",
    "const studentInfo = {\n",
    "    name: \"John Doe\",\n",
    "    age: 20,\n",
    "    major: \"Computer Science\",\n",
    "    isEnrolled: true\n",
    "};\n",
    "\n",
    "// Accessing values\n",
    "console.log(\"Student Name:\", studentInfo.name);  // Output: John Doe\n",
    "console.log(\"Student Age:\", studentInfo.age);    // Output: 20\n",
    "\n",
    "// Updating a value\n",
    "studentInfo.age = 21;  // Update the age\n",
    "console.log(\"Updated Age:\", studentInfo.age);    // Output: 21\n",
    "\n",
    "// Adding a new key-value pair\n",
    "studentInfo.gpa = 3.5;\n",
    "console.log(\"GPA:\", studentInfo.gpa);  // Output: 3.5\n",
    "\n",
    "// Removing a key-value pair\n",
    "delete studentInfo.isEnrolled;\n",
    "console.log(\"Is Enrolled:\", studentInfo.isEnrolled === undefined);  // Output: true\n",
    "\n",
    "// Looping through the object\n",
    "console.log(\"\\nStudent Information:\");\n",
    "for (const key in studentInfo) {\n",
    "    if (studentInfo.hasOwnProperty(key)) {\n",
    "        console.log(`${key}: ${studentInfo[key]}`);\n",
    "    }\n",
    "}\n"
   ]
  }
 ],
 "metadata": {
  "kernelspec": {
   "display_name": "venv",
   "language": "python",
   "name": "python3"
  },
  "language_info": {
   "codemirror_mode": {
    "name": "ipython",
    "version": 3
   },
   "file_extension": ".py",
   "mimetype": "text/x-python",
   "name": "python",
   "nbconvert_exporter": "python",
   "pygments_lexer": "ipython3",
   "version": "3.12.6"
  }
 },
 "nbformat": 4,
 "nbformat_minor": 2
}
