{
 "cells": [
  {
   "cell_type": "raw",
   "metadata": {
    "vscode": {
     "languageId": "raw"
    }
   },
   "source": [
    "---\n",
    "layout: post\n",
    "title: Big Idea 3.10 Part 4\n",
    "description: Learn more about lists\n",
    "type: hacks\n",
    "toc: false\n",
    "comments: true\n",
    "author: Brandon\n",
    "permalink: /csp/big-idea/p1/3-10-4\n",
    "menu: nav/csp_units/csp_unit3_p1_fundamentals.html\n",
    "---"
   ]
  },
  {
   "cell_type": "markdown",
   "metadata": {},
   "source": [
    "<table>\n",
    "    <tr>\n",
    "        <td><a href=\"{{site.baseurl}}/csp/big-idea/p1/3-10\">Part 1</a></td>\n",
    "        <td><a href=\"{{site.baseurl}}/csp/big-idea/p1/3-10-2\">Part 2</a></td>\n",
    "        <td><a href=\"{{site.baseurl}}/csp/big-idea/p1/3-10-3\">Part 3</a></td>\n",
    "        <td><a href=\"{{site.baseurl}}/csp/big-idea/p1/3-10-4\">Part 4</a></td>\n",
    "    </tr>\n",
    "</table>"
   ]
  },
  {
   "cell_type": "markdown",
   "metadata": {
    "vscode": {
     "languageId": "raw"
    }
   },
   "source": [
    "## Modifying Elements"
   ]
  },
  {
   "cell_type": "code",
   "execution_count": null,
   "metadata": {},
   "outputs": [],
   "source": [
    "# Python\n",
    "\n",
    "aList = ['apple', 'banana', 'cherry']\n",
    "aList[1] = 'kiwi'  # Change 'banana' to 'kiwi'\n",
    "print(aList)  # Output: ['apple', 'kiwi', 'cherry']"
   ]
  },
  {
   "cell_type": "code",
   "execution_count": null,
   "metadata": {
    "vscode": {
     "languageId": "javascript"
    }
   },
   "outputs": [],
   "source": [
    "%%js\n",
    "// Javascript\n",
    "\n",
    "let alist = ['apple', 'banana', 'cherry', 'grape'];\n",
    "\n",
    "// Specify the index you want to update\n",
    "let index = 2; // For example, to update 'cherry'\n",
    "\n",
    "// Update the value at the specified index\n",
    "alist[index] = 'kiwi'; // Now 'cherry' is replaced with 'kiwi'\n",
    "\n",
    "console.log(alist); // Output: ['apple', 'banana', 'kiwi', 'grape']"
   ]
  },
  {
   "cell_type": "markdown",
   "metadata": {},
   "source": [
    "## Checking Length"
   ]
  },
  {
   "cell_type": "code",
   "execution_count": null,
   "metadata": {},
   "outputs": [],
   "source": [
    "# Python\n",
    "\n",
    "aList = ['apple', 'banana', 'cherry']\n",
    "number_of_elements = len(aList)  # Gets the number of elements\n",
    "print(number_of_elements)  # Output: 3"
   ]
  },
  {
   "cell_type": "code",
   "execution_count": null,
   "metadata": {
    "vscode": {
     "languageId": "javascript"
    }
   },
   "outputs": [],
   "source": [
    "%%js\n",
    "// Javascript\n",
    "\n",
    "let aList = ['apple', 'banana', 'cherry'];\n",
    "let numberOfElements = aList.length; // Gets the number of elements\n",
    "console.log(numberOfElements); // Output: 3"
   ]
  },
  {
   "cell_type": "markdown",
   "metadata": {},
   "source": [
    "## Interating through a List"
   ]
  },
  {
   "cell_type": "code",
   "execution_count": null,
   "metadata": {},
   "outputs": [],
   "source": [
    "# Python\n",
    "\n",
    "for item in my_list: \n",
    "{ <block of statement> }"
   ]
  },
  {
   "cell_type": "code",
   "execution_count": null,
   "metadata": {
    "vscode": {
     "languageId": "javascript"
    }
   },
   "outputs": [],
   "source": [
    "%%js\n",
    "// Javascript\n",
    "\n",
    "let myList = ['apple', 'banana', 'cherry'];\n",
    "\n",
    "for (let item of myList) {\n",
    "    // Replace this comment with your block of statements\n",
    "    console.log(item); // Example statement\n",
    "}"
   ]
  },
  {
   "cell_type": "markdown",
   "metadata": {},
   "source": [
    "## Hacks\n",
    "- Create a list and try adding and deleting different elements\n",
    "- Find the sum of even numbers in a list"
   ]
  }
 ],
 "metadata": {
  "language_info": {
   "name": "python"
  }
 },
 "nbformat": 4,
 "nbformat_minor": 2
}
