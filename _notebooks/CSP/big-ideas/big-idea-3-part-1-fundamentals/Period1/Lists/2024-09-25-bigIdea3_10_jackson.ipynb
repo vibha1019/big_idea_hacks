{
 "cells": [
  {
   "cell_type": "raw",
   "metadata": {
    "vscode": {
     "languageId": "raw"
    }
   },
   "source": [
    "---\n",
    "layout: post\n",
    "title: Big Idea 3.10 Part 2\n",
    "description: Learn more about lists\n",
    "type: hacks\n",
    "toc: false\n",
    "comments: true\n",
    "author: Jackson\n",
    "permalink: /csp/big-idea/p1/3-10-2\n",
    "menu: nav/csp_units/csp_unit3_p1_fundamentals.html\n",
    "---"
   ]
  },
  {
   "cell_type": "markdown",
   "metadata": {},
   "source": [
    "<table>\n",
    "    <tr>\n",
    "        <td><a href=\"{{site.baseurl}}/csp/big-idea/p1/3-10\">Part 1</a></td>\n",
    "        <td><a href=\"{{site.baseurl}}/csp/big-idea/p1/3-10-2\">Part 2</a></td>\n",
    "        <td><a href=\"{{site.baseurl}}/csp/big-idea/p1/3-10-3\">Part 3</a></td>\n",
    "        <td><a href=\"{{site.baseurl}}/csp/big-idea/p1/3-10-4\">Part 4</a></td>\n",
    "    </tr>\n",
    "</table>"
   ]
  },
  {
   "cell_type": "markdown",
   "metadata": {
    "vscode": {
     "languageId": "raw"
    }
   },
   "source": [
    "## Creating a list"
   ]
  },
  {
   "cell_type": "code",
   "execution_count": null,
   "metadata": {},
   "outputs": [],
   "source": [
    "# Python\n",
    "\n",
    "# Creating an empty list\n",
    "aList = []\n",
    "\n",
    "# Creating a list with elements\n",
    "aList = [1, 2, 3, 'apple', 'banana']"
   ]
  },
  {
   "cell_type": "code",
   "execution_count": null,
   "metadata": {
    "vscode": {
     "languageId": "javascript"
    }
   },
   "outputs": [],
   "source": [
    "%%js\n",
    "// Javascript\n",
    "\n",
    "// Creating an empty array\n",
    "let aList = [];\n",
    "\n",
    "// Creating an array with elements\n",
    "aList = [1, 2, 3, 'apple', 'banana'];"
   ]
  },
  {
   "cell_type": "markdown",
   "metadata": {},
   "source": [
    "## Accessing Elements\n",
    "You can access an element at a specific index using the syntax `aList[i]`. Remember, the first element is at index `0`."
   ]
  },
  {
   "cell_type": "code",
   "execution_count": null,
   "metadata": {},
   "outputs": [],
   "source": [
    "# Python\n",
    "\n",
    "aList = ['apple', 'banana', 'cherry']\n",
    "print(aList[0])  # Output: 'apple'"
   ]
  },
  {
   "cell_type": "code",
   "execution_count": null,
   "metadata": {
    "vscode": {
     "languageId": "javascript"
    }
   },
   "outputs": [],
   "source": [
    "%%js\n",
    "// Javascript\n",
    "\n",
    "const aList = ['apple', 'banana', 'cherry'];\n",
    "const firstElement = aList[0]; // apple\n",
    "const secondElement = aList[1]; // banana"
   ]
  },
  {
   "cell_type": "markdown",
   "metadata": {},
   "source": [
    "## Appending Elements\n",
    "Use the `append()` method to add an element to the end of the list."
   ]
  },
  {
   "cell_type": "code",
   "execution_count": null,
   "metadata": {},
   "outputs": [],
   "source": [
    "# Python\n",
    "\n",
    "aList.append('grape')  # Adds 'grape' at the end\n",
    "print(aList)  # Output: ['apple', 'banana', 'cherry', 'kiwi', 'grape']"
   ]
  },
  {
   "cell_type": "code",
   "execution_count": null,
   "metadata": {
    "vscode": {
     "languageId": "javascript"
    }
   },
   "outputs": [],
   "source": [
    "%%js\n",
    "// Javascript\n",
    "\n",
    "let aList = ['apple', 'banana', 'cherry', 'kiwi'];\n",
    "\n",
    "// Adding 'grape' at the end\n",
    "aList.push('grape');\n",
    "\n",
    "// Printing the array\n",
    "console.log(aList); // Output: ['apple', 'banana', 'cherry', 'kiwi', 'grape']"
   ]
  }
 ],
 "metadata": {
  "language_info": {
   "name": "python"
  }
 },
 "nbformat": 4,
 "nbformat_minor": 2
}
