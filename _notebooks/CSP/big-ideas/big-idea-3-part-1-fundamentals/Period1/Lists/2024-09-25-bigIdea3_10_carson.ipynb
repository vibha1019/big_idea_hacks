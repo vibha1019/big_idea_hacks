{
 "cells": [
  {
   "cell_type": "raw",
   "metadata": {
    "vscode": {
     "languageId": "raw"
    }
   },
   "source": [
    "---\n",
    "layout: post\n",
    "title: Big Idea 3.10 Part 3\n",
    "description: Learn more about lists\n",
    "type: hacks\n",
    "toc: false\n",
    "comments: true\n",
    "author: Carson\n",
    "permalink: /csp/big-idea/p1/3-10-3\n",
    "menu: nav/csp_units/csp_unit3_p1_fundamentals.html\n",
    "---"
   ]
  },
  {
   "cell_type": "markdown",
   "metadata": {},
   "source": [
    "<table>\n",
    "    <tr>\n",
    "        <td><a href=\"{{site.baseurl}}/csp/big-idea/p1/3-10\">Part 1</a></td>\n",
    "        <td><a href=\"{{site.baseurl}}/csp/big-idea/p1/3-10-2\">Part 2</a></td>\n",
    "        <td><a href=\"{{site.baseurl}}/csp/big-idea/p1/3-10-3\">Part 3</a></td>\n",
    "        <td><a href=\"{{site.baseurl}}/csp/big-idea/p1/3-10-4\">Part 4</a></td>\n",
    "    </tr>\n",
    "</table>"
   ]
  },
  {
   "cell_type": "markdown",
   "metadata": {
    "vscode": {
     "languageId": "raw"
    }
   },
   "source": [
    "## Inserting Elements"
   ]
  },
  {
   "cell_type": "code",
   "execution_count": null,
   "metadata": {},
   "outputs": [],
   "source": [
    "# Python\n",
    "\n",
    "alist = ['apple', 'banana', 'cherry']\n",
    "alist.insert('apple', 'a')  # alist is now ['apple', 'a', 'banana', 'cherry']"
   ]
  },
  {
   "cell_type": "code",
   "execution_count": null,
   "metadata": {
    "vscode": {
     "languageId": "javascript"
    }
   },
   "outputs": [],
   "source": [
    "%%js\n",
    "// Javascript\n",
    "\n",
    "let alist = ['apple', 'banana', 'cherry'];\n",
    "\n",
    "// Find the index of 'apple'\n",
    "const index = alist.indexOf('apple');\n",
    "\n",
    "// Insert 'a' before 'apple'\n",
    "if (index !== -1) {\n",
    "    alist.splice(index, 0, 'a'); // 0 indicates no elements to remove\n",
    "}\n",
    "\n",
    "console.log(alist); // Output: ['a', 'apple', 'banana', 'cherry']"
   ]
  },
  {
   "cell_type": "markdown",
   "metadata": {},
   "source": [
    "## Removing Elements"
   ]
  },
  {
   "cell_type": "code",
   "execution_count": null,
   "metadata": {},
   "outputs": [],
   "source": [
    "# Python\n",
    "\n",
    "aList.remove('kiwi')  # Removes 'kiwi' from the list\n",
    "print(aList)  # Output: ['apple', 'banana', 'cherry', 'grape']"
   ]
  },
  {
   "cell_type": "code",
   "execution_count": null,
   "metadata": {
    "vscode": {
     "languageId": "javascript"
    }
   },
   "outputs": [],
   "source": [
    "%%js\n",
    "// Javascript\n",
    "\n",
    "let aList = ['apple', 'banana', 'cherry', 'kiwi', 'grape']; // Find the index of 'kiwi'\n",
    "\n",
    "if (index !== -1) {\n",
    "    aList.splice(index, 1);  // Removes 'kiwi' from the list\n",
    "}\n",
    "console.log(aList);  // Output: ['apple', 'banana', 'cherry', 'grape']"
   ]
  },
  {
   "cell_type": "markdown",
   "metadata": {},
   "source": [
    "## Deleting an element \n",
    "You can use the `del` statement to remove an item at a specific index."
   ]
  },
  {
   "cell_type": "code",
   "execution_count": null,
   "metadata": {},
   "outputs": [],
   "source": [
    "# Python\n",
    "\n",
    "del aList[2]  # Deletes 'cherry' at index 2\n",
    "print(aList)  # Output: ['apple', 'banana', 'grape']"
   ]
  },
  {
   "cell_type": "code",
   "execution_count": null,
   "metadata": {
    "vscode": {
     "languageId": "javascript"
    }
   },
   "outputs": [],
   "source": [
    "%%js\n",
    "// Javascript\n",
    "\n",
    "let aList = ['apple', 'banana', 'cherry', 'grape'];\n",
    "\n",
    "// Delete the element at index 2\n",
    "aList.splice(2, 1); // Removes 1 element at index 2\n",
    "\n",
    "console.log(aList); // Output: ['apple', 'banana', 'grape']"
   ]
  }
 ],
 "metadata": {
  "language_info": {
   "name": "python"
  }
 },
 "nbformat": 4,
 "nbformat_minor": 2
}
