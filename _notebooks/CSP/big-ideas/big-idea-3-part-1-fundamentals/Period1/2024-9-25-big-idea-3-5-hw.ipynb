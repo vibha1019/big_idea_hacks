{
 "cells": [
  {
   "cell_type": "code",
   "execution_count": null,
   "metadata": {
    "vscode": {
     "languageId": "plaintext"
    }
   },
   "outputs": [],
   "source": [
    "---\n",
    "toc: false\n",
    "comments: true\n",
    "layout: post\n",
    "title: 3.5 Booleans Homework\n",
    "description: Student led teaching on Booleans. Learn how booleans are used in decision-making with logical operators (like less than or greater than).\n",
    "permalink: /csp/big-idea/3-5-hw\n",
    "categories: [CSP Big Ideas]\n",
    "author: Bailey, Travis, Leon, Anyi\n",
    "menu: nav/csp_units/csp_unit3_p1_fundamentals.html\n",
    "---"
   ]
  },
  {
   "cell_type": "markdown",
   "metadata": {},
   "source": [
    "<style>\n",
    "    .left-pattern, .right-pattern {\n",
    "        position: fixed;\n",
    "        top: 0;\n",
    "        width: 200px;\n",
    "        height: 100%;\n",
    "        background-image: url('https://cdn.pixabay.com/photo/2022/11/02/22/25/background-7566164_1280.jpg');\n",
    "        background-repeat: no-repeat;\n",
    "        background-size: cover;\n",
    "        z-index: -1;\n",
    "    }\n",
    "    .left-pattern {\n",
    "        left: 0;\n",
    "    }\n",
    "    .right-pattern {\n",
    "        right: 0;\n",
    "    }\n",
    "    body {\n",
    "        font-family: 'Comic Sans MS', cursive, sans-serif;\n",
    "    }\n",
    "</style>\n",
    "\n",
    "<!-- Left and right side patterns -->\n",
    "<div class='left-pattern'></div>\n",
    "<div class='right-pattern'></div>"
   ]
  },
  {
   "cell_type": "markdown",
   "metadata": {},
   "source": [
    "## Homework Hacks\n",
    "Review the instructions and examples in the lesson and create a truth table using Python. Additionally look up and learn about De Morgan's Law and see how it can be used to create a boolean expression. "
   ]
  },
  {
   "cell_type": "markdown",
   "metadata": {},
   "source": [
    "## Take a quiz\n",
    "Test out your skills with this quiz."
   ]
  },
  {
   "cell_type": "code",
   "execution_count": null,
   "metadata": {
    "vscode": {
     "languageId": "javascript"
    }
   },
   "outputs": [],
   "source": [
    "const link = document.createElement('a');\n",
    "link.href = 'https://quizizz.com/join/quiz/66f58e14ced426df9b54f913/start?studentShare=true';\n",
    "link.textContent = 'Quizizz Link';\n",
    "document.body.appendChild(link);"
   ]
  }
 ],
 "metadata": {
  "kernelspec": {
   "display_name": "Python 3",
   "language": "python",
   "name": "python3"
  },
  "language_info": {
   "codemirror_mode": {
    "name": "ipython",
    "version": 3
   },
   "file_extension": ".py",
   "mimetype": "text/x-python",
   "name": "python",
   "nbconvert_exporter": "python",
   "pygments_lexer": "ipython3",
   "version": "3.10.12"
  }
 },
 "nbformat": 4,
 "nbformat_minor": 2
}
