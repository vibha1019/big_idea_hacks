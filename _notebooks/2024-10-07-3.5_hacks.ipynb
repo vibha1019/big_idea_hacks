{
 "cells": [
  {
   "cell_type": "markdown",
   "metadata": {},
   "source": [
    "---\n",
    "layout: post\n",
    "title: 3.5 Hacks\n",
    "description: Python/Javascript Popcorn and HW hacks\n",
    "permalink: /github/pages/3_5_hacks\n",
    "type: ccc\n",
    "author: Vibha Mandayam\n",
    "---"
   ]
  },
  {
   "cell_type": "markdown",
   "metadata": {
    "vscode": {
     "languageId": "plaintext"
    }
   },
   "source": [
    "3.5 Python Popcorn Hacks"
   ]
  },
  {
   "cell_type": "code",
   "execution_count": null,
   "metadata": {},
   "outputs": [],
   "source": [
    "def check_number(num):\n",
    "\tif num >= 0:\n",
    "\t\tprint(\"Number is nonnegative\")\n",
    "\telse:\n",
    "\t\tprint(\"number is negative\")\n",
    "\n",
    "n = int(input())\n",
    "check_number(n)"
   ]
  },
  {
   "cell_type": "code",
   "execution_count": null,
   "metadata": {},
   "outputs": [],
   "source": [
    "def findVowel(char):\n",
    "\tif char.lower() in \"aeiou\":\n",
    "\t\tprint(\"the character is a vowel\")\n",
    "\telse:\n",
    "\t\tprint(\"not a vowel\")\n",
    "\n",
    "letter = str(input())\n",
    "findVowel(letter)"
   ]
  },
  {
   "cell_type": "markdown",
   "metadata": {},
   "source": [
    "3.5 Python Homework Hacks"
   ]
  },
  {
   "cell_type": "code",
   "execution_count": null,
   "metadata": {},
   "outputs": [],
   "source": [
    "import random\n",
    "\n",
    "def de_morgan_game():\n",
    "    expressions = [\n",
    "        (\"Not (A and B)\", \"Not A or Not B\"),\n",
    "        (\"Not (A or B)\", \"Not A and Not B\"),\n",
    "        (\"Not (A and B and C)\", \"Not A or Not B or Not C\"),\n",
    "        (\"Not (A or B or C)\", \"Not A and Not B and Not C\"),\n",
    "    ]\n",
    "\n",
    "    score = 0\n",
    "    rounds = 5\n",
    "\n",
    "    print(\"Welcome to the De Morgan's Law Game!\")\n",
    "    print(\"You will see a logical expression and its De Morgan's Law simplification.\")\n",
    "    print(\"Respond with 'yes' if they are equivalent and 'no' if they are not.\\n\")\n",
    "\n",
    "    for _ in range(rounds):\n",
    "        original, simplified = random.choice(expressions)\n",
    "        print(f\"Original: {original}\")\n",
    "        print(f\"Simplified: {simplified}\")\n",
    "        \n",
    "        user_input = input(\"Are they equivalent? (yes/no): \").strip().lower()\n",
    "        \n",
    "        correct_answer = \"yes\" if original == simplified else \"no\"\n",
    "        \n",
    "        if user_input == correct_answer:\n",
    "            print(\"Correct!\\n\")\n",
    "            score += 1\n",
    "        else:\n",
    "            print(\"Incorrect.\\n\")\n",
    "\n",
    "    print(f\"Game over! Your score: {score}/{rounds}\")\n",
    "\n",
    "de_morgan_game()\n"
   ]
  }
 ],
 "metadata": {
  "language_info": {
   "name": "python"
  }
 },
 "nbformat": 4,
 "nbformat_minor": 2
}
